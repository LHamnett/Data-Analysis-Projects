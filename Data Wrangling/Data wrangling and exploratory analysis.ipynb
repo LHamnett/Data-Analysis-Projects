{
 "cells": [
  {
   "cell_type": "markdown",
   "metadata": {},
   "source": [
    "### Data wrangling project \n",
    "\n",
    "#### Author/Analyst: Leon Hamnett\n",
    "\n",
    "#### [LinkedIn](https://www.linkedin.com/in/leon-hamnett/)\n",
    "\n",
    "### Table of contents\n",
    "1. [Introduction](#introduction)\n",
    "2. [Gathering Data](#gather)\n",
    "3. [Wrangling Data](#wrangle)\n",
    "    1. [Assessing Data](#assess)\n",
    "    2. [Data Cleaning](#clean)\n",
    "    3. [Data Tidying](#tidy)\n",
    "4. [Analysing Data](#analysis)\n",
    "5. [Conclusions](#conclusions)\n",
    "\n",
    "\n",
    "### Introduction <a name=\"introduction\"></a>\n",
    "\n",
    "For this project we will be performing the Data Wrangling process to look at tweets from the twitter account \"WeRateDogs\". This is a humorous twitter accounts which posts funny pictures of dogs, along with a rating (usually more than 10 out of 10) as well as some funny text/image caption.\n",
    "\n",
    "We will be obtaining sets of data in a variety of ways, including standard file acess, programatically downloading/requesting data and using a Twitter API.\n",
    "\n",
    "Once this data is gathered, we will open the data within python pandas to assess the data for quality (content issues) and tidiness (structural issues). Both visual and programatic methods will be used to identify any issues with this dataset.\n",
    "\n",
    "After assessing the data, we will work on cleaning the data - looking at each issue identified in the assessing step and working to resolve it. At the end of this stage, we hope to have a dataset(s) which has been appropiately cleaned to enable easier and more accurate analysis.\n",
    "\n",
    "Finally some exploratory data analysis and/or data visualisations will be carried out.\n"
   ]
  },
  {
   "cell_type": "markdown",
   "metadata": {},
   "source": [
    "### Gather <a name=\"gather\"></a>\n",
    "\n",
    "During this stage, we will gather the necessary data. First we have a CSV file provided (as if on our company server) of an archive of all the tweets sent by the account of interest. This will form the main bulk of our data.\n"
   ]
  },
  {
   "cell_type": "code",
   "execution_count": 1,
   "metadata": {},
   "outputs": [
    {
     "data": {
      "text/html": [
       "<div>\n",
       "<style scoped>\n",
       "    .dataframe tbody tr th:only-of-type {\n",
       "        vertical-align: middle;\n",
       "    }\n",
       "\n",
       "    .dataframe tbody tr th {\n",
       "        vertical-align: top;\n",
       "    }\n",
       "\n",
       "    .dataframe thead th {\n",
       "        text-align: right;\n",
       "    }\n",
       "</style>\n",
       "<table border=\"1\" class=\"dataframe\">\n",
       "  <thead>\n",
       "    <tr style=\"text-align: right;\">\n",
       "      <th></th>\n",
       "      <th>tweet_id</th>\n",
       "      <th>in_reply_to_status_id</th>\n",
       "      <th>in_reply_to_user_id</th>\n",
       "      <th>timestamp</th>\n",
       "      <th>source</th>\n",
       "      <th>text</th>\n",
       "      <th>retweeted_status_id</th>\n",
       "      <th>retweeted_status_user_id</th>\n",
       "      <th>retweeted_status_timestamp</th>\n",
       "      <th>expanded_urls</th>\n",
       "      <th>rating_numerator</th>\n",
       "      <th>rating_denominator</th>\n",
       "      <th>name</th>\n",
       "      <th>doggo</th>\n",
       "      <th>floofer</th>\n",
       "      <th>pupper</th>\n",
       "      <th>puppo</th>\n",
       "    </tr>\n",
       "  </thead>\n",
       "  <tbody>\n",
       "    <tr>\n",
       "      <th>0</th>\n",
       "      <td>892420643555336193</td>\n",
       "      <td>NaN</td>\n",
       "      <td>NaN</td>\n",
       "      <td>2017-08-01 16:23:56 +0000</td>\n",
       "      <td>&lt;a href=\"http://twitter.com/download/iphone\" r...</td>\n",
       "      <td>This is Phineas. He's a mystical boy. Only eve...</td>\n",
       "      <td>NaN</td>\n",
       "      <td>NaN</td>\n",
       "      <td>NaN</td>\n",
       "      <td>https://twitter.com/dog_rates/status/892420643...</td>\n",
       "      <td>13</td>\n",
       "      <td>10</td>\n",
       "      <td>Phineas</td>\n",
       "      <td>None</td>\n",
       "      <td>None</td>\n",
       "      <td>None</td>\n",
       "      <td>None</td>\n",
       "    </tr>\n",
       "    <tr>\n",
       "      <th>1</th>\n",
       "      <td>892177421306343426</td>\n",
       "      <td>NaN</td>\n",
       "      <td>NaN</td>\n",
       "      <td>2017-08-01 00:17:27 +0000</td>\n",
       "      <td>&lt;a href=\"http://twitter.com/download/iphone\" r...</td>\n",
       "      <td>This is Tilly. She's just checking pup on you....</td>\n",
       "      <td>NaN</td>\n",
       "      <td>NaN</td>\n",
       "      <td>NaN</td>\n",
       "      <td>https://twitter.com/dog_rates/status/892177421...</td>\n",
       "      <td>13</td>\n",
       "      <td>10</td>\n",
       "      <td>Tilly</td>\n",
       "      <td>None</td>\n",
       "      <td>None</td>\n",
       "      <td>None</td>\n",
       "      <td>None</td>\n",
       "    </tr>\n",
       "    <tr>\n",
       "      <th>2</th>\n",
       "      <td>891815181378084864</td>\n",
       "      <td>NaN</td>\n",
       "      <td>NaN</td>\n",
       "      <td>2017-07-31 00:18:03 +0000</td>\n",
       "      <td>&lt;a href=\"http://twitter.com/download/iphone\" r...</td>\n",
       "      <td>This is Archie. He is a rare Norwegian Pouncin...</td>\n",
       "      <td>NaN</td>\n",
       "      <td>NaN</td>\n",
       "      <td>NaN</td>\n",
       "      <td>https://twitter.com/dog_rates/status/891815181...</td>\n",
       "      <td>12</td>\n",
       "      <td>10</td>\n",
       "      <td>Archie</td>\n",
       "      <td>None</td>\n",
       "      <td>None</td>\n",
       "      <td>None</td>\n",
       "      <td>None</td>\n",
       "    </tr>\n",
       "    <tr>\n",
       "      <th>3</th>\n",
       "      <td>891689557279858688</td>\n",
       "      <td>NaN</td>\n",
       "      <td>NaN</td>\n",
       "      <td>2017-07-30 15:58:51 +0000</td>\n",
       "      <td>&lt;a href=\"http://twitter.com/download/iphone\" r...</td>\n",
       "      <td>This is Darla. She commenced a snooze mid meal...</td>\n",
       "      <td>NaN</td>\n",
       "      <td>NaN</td>\n",
       "      <td>NaN</td>\n",
       "      <td>https://twitter.com/dog_rates/status/891689557...</td>\n",
       "      <td>13</td>\n",
       "      <td>10</td>\n",
       "      <td>Darla</td>\n",
       "      <td>None</td>\n",
       "      <td>None</td>\n",
       "      <td>None</td>\n",
       "      <td>None</td>\n",
       "    </tr>\n",
       "    <tr>\n",
       "      <th>4</th>\n",
       "      <td>891327558926688256</td>\n",
       "      <td>NaN</td>\n",
       "      <td>NaN</td>\n",
       "      <td>2017-07-29 16:00:24 +0000</td>\n",
       "      <td>&lt;a href=\"http://twitter.com/download/iphone\" r...</td>\n",
       "      <td>This is Franklin. He would like you to stop ca...</td>\n",
       "      <td>NaN</td>\n",
       "      <td>NaN</td>\n",
       "      <td>NaN</td>\n",
       "      <td>https://twitter.com/dog_rates/status/891327558...</td>\n",
       "      <td>12</td>\n",
       "      <td>10</td>\n",
       "      <td>Franklin</td>\n",
       "      <td>None</td>\n",
       "      <td>None</td>\n",
       "      <td>None</td>\n",
       "      <td>None</td>\n",
       "    </tr>\n",
       "  </tbody>\n",
       "</table>\n",
       "</div>"
      ],
      "text/plain": [
       "             tweet_id  in_reply_to_status_id  in_reply_to_user_id  \\\n",
       "0  892420643555336193                    NaN                  NaN   \n",
       "1  892177421306343426                    NaN                  NaN   \n",
       "2  891815181378084864                    NaN                  NaN   \n",
       "3  891689557279858688                    NaN                  NaN   \n",
       "4  891327558926688256                    NaN                  NaN   \n",
       "\n",
       "                   timestamp  \\\n",
       "0  2017-08-01 16:23:56 +0000   \n",
       "1  2017-08-01 00:17:27 +0000   \n",
       "2  2017-07-31 00:18:03 +0000   \n",
       "3  2017-07-30 15:58:51 +0000   \n",
       "4  2017-07-29 16:00:24 +0000   \n",
       "\n",
       "                                              source  \\\n",
       "0  <a href=\"http://twitter.com/download/iphone\" r...   \n",
       "1  <a href=\"http://twitter.com/download/iphone\" r...   \n",
       "2  <a href=\"http://twitter.com/download/iphone\" r...   \n",
       "3  <a href=\"http://twitter.com/download/iphone\" r...   \n",
       "4  <a href=\"http://twitter.com/download/iphone\" r...   \n",
       "\n",
       "                                                text  retweeted_status_id  \\\n",
       "0  This is Phineas. He's a mystical boy. Only eve...                  NaN   \n",
       "1  This is Tilly. She's just checking pup on you....                  NaN   \n",
       "2  This is Archie. He is a rare Norwegian Pouncin...                  NaN   \n",
       "3  This is Darla. She commenced a snooze mid meal...                  NaN   \n",
       "4  This is Franklin. He would like you to stop ca...                  NaN   \n",
       "\n",
       "   retweeted_status_user_id retweeted_status_timestamp  \\\n",
       "0                       NaN                        NaN   \n",
       "1                       NaN                        NaN   \n",
       "2                       NaN                        NaN   \n",
       "3                       NaN                        NaN   \n",
       "4                       NaN                        NaN   \n",
       "\n",
       "                                       expanded_urls  rating_numerator  \\\n",
       "0  https://twitter.com/dog_rates/status/892420643...                13   \n",
       "1  https://twitter.com/dog_rates/status/892177421...                13   \n",
       "2  https://twitter.com/dog_rates/status/891815181...                12   \n",
       "3  https://twitter.com/dog_rates/status/891689557...                13   \n",
       "4  https://twitter.com/dog_rates/status/891327558...                12   \n",
       "\n",
       "   rating_denominator      name doggo floofer pupper puppo  \n",
       "0                  10   Phineas  None    None   None  None  \n",
       "1                  10     Tilly  None    None   None  None  \n",
       "2                  10    Archie  None    None   None  None  \n",
       "3                  10     Darla  None    None   None  None  \n",
       "4                  10  Franklin  None    None   None  None  "
      ]
     },
     "execution_count": 1,
     "metadata": {},
     "output_type": "execute_result"
    }
   ],
   "source": [
    "#load relevant libraries\n",
    "import pandas as pd\n",
    "import numpy as np\n",
    "import matplotlib.pyplot as plt\n",
    "%matplotlib inline\n",
    "\n",
    "#open CSV file\n",
    "twit_archive = pd.read_csv('twitter_archive_enhanced.csv')\n",
    "twit_archive.head()"
   ]
  },
  {
   "cell_type": "markdown",
   "metadata": {},
   "source": [
    "Next we will programatically request the information from a classification which attempts to classify the dog type based on the image that was included in the twitter post (as if one of our colleagues has carried out this analysis and is storing the information on a server). \n",
    "\n",
    "We import the libaries and download the file programatically from the server:"
   ]
  },
  {
   "cell_type": "code",
   "execution_count": 2,
   "metadata": {
    "scrolled": false
   },
   "outputs": [
    {
     "data": {
      "text/html": [
       "<div>\n",
       "<style scoped>\n",
       "    .dataframe tbody tr th:only-of-type {\n",
       "        vertical-align: middle;\n",
       "    }\n",
       "\n",
       "    .dataframe tbody tr th {\n",
       "        vertical-align: top;\n",
       "    }\n",
       "\n",
       "    .dataframe thead th {\n",
       "        text-align: right;\n",
       "    }\n",
       "</style>\n",
       "<table border=\"1\" class=\"dataframe\">\n",
       "  <thead>\n",
       "    <tr style=\"text-align: right;\">\n",
       "      <th></th>\n",
       "      <th>tweet_id</th>\n",
       "      <th>jpg_url</th>\n",
       "      <th>img_num</th>\n",
       "      <th>p1</th>\n",
       "      <th>p1_conf</th>\n",
       "      <th>p1_dog</th>\n",
       "      <th>p2</th>\n",
       "      <th>p2_conf</th>\n",
       "      <th>p2_dog</th>\n",
       "      <th>p3</th>\n",
       "      <th>p3_conf</th>\n",
       "      <th>p3_dog</th>\n",
       "    </tr>\n",
       "  </thead>\n",
       "  <tbody>\n",
       "    <tr>\n",
       "      <th>0</th>\n",
       "      <td>666020888022790149</td>\n",
       "      <td>https://pbs.twimg.com/media/CT4udn0WwAA0aMy.jpg</td>\n",
       "      <td>1</td>\n",
       "      <td>Welsh_springer_spaniel</td>\n",
       "      <td>0.465074</td>\n",
       "      <td>True</td>\n",
       "      <td>collie</td>\n",
       "      <td>0.156665</td>\n",
       "      <td>True</td>\n",
       "      <td>Shetland_sheepdog</td>\n",
       "      <td>0.061428</td>\n",
       "      <td>True</td>\n",
       "    </tr>\n",
       "    <tr>\n",
       "      <th>1</th>\n",
       "      <td>666029285002620928</td>\n",
       "      <td>https://pbs.twimg.com/media/CT42GRgUYAA5iDo.jpg</td>\n",
       "      <td>1</td>\n",
       "      <td>redbone</td>\n",
       "      <td>0.506826</td>\n",
       "      <td>True</td>\n",
       "      <td>miniature_pinscher</td>\n",
       "      <td>0.074192</td>\n",
       "      <td>True</td>\n",
       "      <td>Rhodesian_ridgeback</td>\n",
       "      <td>0.072010</td>\n",
       "      <td>True</td>\n",
       "    </tr>\n",
       "    <tr>\n",
       "      <th>2</th>\n",
       "      <td>666033412701032449</td>\n",
       "      <td>https://pbs.twimg.com/media/CT4521TWwAEvMyu.jpg</td>\n",
       "      <td>1</td>\n",
       "      <td>German_shepherd</td>\n",
       "      <td>0.596461</td>\n",
       "      <td>True</td>\n",
       "      <td>malinois</td>\n",
       "      <td>0.138584</td>\n",
       "      <td>True</td>\n",
       "      <td>bloodhound</td>\n",
       "      <td>0.116197</td>\n",
       "      <td>True</td>\n",
       "    </tr>\n",
       "    <tr>\n",
       "      <th>3</th>\n",
       "      <td>666044226329800704</td>\n",
       "      <td>https://pbs.twimg.com/media/CT5Dr8HUEAA-lEu.jpg</td>\n",
       "      <td>1</td>\n",
       "      <td>Rhodesian_ridgeback</td>\n",
       "      <td>0.408143</td>\n",
       "      <td>True</td>\n",
       "      <td>redbone</td>\n",
       "      <td>0.360687</td>\n",
       "      <td>True</td>\n",
       "      <td>miniature_pinscher</td>\n",
       "      <td>0.222752</td>\n",
       "      <td>True</td>\n",
       "    </tr>\n",
       "    <tr>\n",
       "      <th>4</th>\n",
       "      <td>666049248165822465</td>\n",
       "      <td>https://pbs.twimg.com/media/CT5IQmsXIAAKY4A.jpg</td>\n",
       "      <td>1</td>\n",
       "      <td>miniature_pinscher</td>\n",
       "      <td>0.560311</td>\n",
       "      <td>True</td>\n",
       "      <td>Rottweiler</td>\n",
       "      <td>0.243682</td>\n",
       "      <td>True</td>\n",
       "      <td>Doberman</td>\n",
       "      <td>0.154629</td>\n",
       "      <td>True</td>\n",
       "    </tr>\n",
       "  </tbody>\n",
       "</table>\n",
       "</div>"
      ],
      "text/plain": [
       "             tweet_id                                          jpg_url  \\\n",
       "0  666020888022790149  https://pbs.twimg.com/media/CT4udn0WwAA0aMy.jpg   \n",
       "1  666029285002620928  https://pbs.twimg.com/media/CT42GRgUYAA5iDo.jpg   \n",
       "2  666033412701032449  https://pbs.twimg.com/media/CT4521TWwAEvMyu.jpg   \n",
       "3  666044226329800704  https://pbs.twimg.com/media/CT5Dr8HUEAA-lEu.jpg   \n",
       "4  666049248165822465  https://pbs.twimg.com/media/CT5IQmsXIAAKY4A.jpg   \n",
       "\n",
       "   img_num                      p1   p1_conf  p1_dog                  p2  \\\n",
       "0        1  Welsh_springer_spaniel  0.465074    True              collie   \n",
       "1        1                 redbone  0.506826    True  miniature_pinscher   \n",
       "2        1         German_shepherd  0.596461    True            malinois   \n",
       "3        1     Rhodesian_ridgeback  0.408143    True             redbone   \n",
       "4        1      miniature_pinscher  0.560311    True          Rottweiler   \n",
       "\n",
       "    p2_conf  p2_dog                   p3   p3_conf  p3_dog  \n",
       "0  0.156665    True    Shetland_sheepdog  0.061428    True  \n",
       "1  0.074192    True  Rhodesian_ridgeback  0.072010    True  \n",
       "2  0.138584    True           bloodhound  0.116197    True  \n",
       "3  0.360687    True   miniature_pinscher  0.222752    True  \n",
       "4  0.243682    True             Doberman  0.154629    True  "
      ]
     },
     "execution_count": 2,
     "metadata": {},
     "output_type": "execute_result"
    }
   ],
   "source": [
    "import requests\n",
    "url = 'https://d17h27t6h515a5.cloudfront.net/topher/2017/August/599fd2ad_image-predictions/image-predictions.tsv'\n",
    "r = requests.get(url)\n",
    "with open('image_predictions.tsv',mode='w+') as file:\n",
    "        file.write(r.text)\n",
    "#check file has loaded correctly\n",
    "image_predicts = pd.read_csv('image_predictions.tsv',sep='\\t')\n",
    "image_predicts.head() "
   ]
  },
  {
   "cell_type": "markdown",
   "metadata": {},
   "source": [
    "Now we will use the Twitter developer API to access the JSON file structure to get additional data about the tweets that were made. We will save this information into the twit_archive dateframe:"
   ]
  },
  {
   "cell_type": "code",
   "execution_count": 5,
   "metadata": {},
   "outputs": [],
   "source": [
    "%%script false --no-raise-error\n",
    "#cell prevented from running for speedier processing\n",
    "#above line can be commented out if full output is desired\n",
    "import tweepy\n",
    "from tweepy import OAuthHandler\n",
    "import json\n",
    "from timeit import default_timer as timer\n",
    "\n",
    "# Query Twitter API for each tweet in the Twitter archive and save JSON in a text file\n",
    "# These keys are hidden to comply with Twitter's API usage terms and conditions\n",
    "consumer_key = 'HIDDEN'\n",
    "consumer_secret = 'HIDDEN'\n",
    "access_token = 'HIDDEN'\n",
    "access_secret = 'HIDDEN'\n",
    "\n",
    "auth = OAuthHandler(consumer_key, consumer_secret)\n",
    "auth.set_access_token(access_token, access_secret)\n",
    "\n",
    "api = tweepy.API(auth, wait_on_rate_limit=True)\n",
    "\n",
    "# Tweet IDs for which to gather additional data via Twitter's API\n",
    "tweet_ids = twit_archive.tweet_id.values\n",
    "len(tweet_ids)\n",
    "\n",
    "# Query Twitter's API for JSON data for each tweet ID in the Twitter archive\n",
    "count = 0\n",
    "fails_dict = {}\n",
    "start = timer()\n",
    "# Save each tweet's returned JSON as a new line in a .txt file\n",
    "with open('tweet_json.txt', 'w') as outfile:\n",
    "    # This loop will likely take 20-30 minutes to run because of Twitter's rate limit\n",
    "    for tweet_id in tweet_ids:\n",
    "        count += 1\n",
    "        print(str(count) + \": \" + str(tweet_id))\n",
    "        try:\n",
    "            tweet = api.get_status(tweet_id, tweet_mode='extended')\n",
    "            print(\"Success\")\n",
    "            json.dump(tweet._json, outfile)\n",
    "            outfile.write('\\n')\n",
    "        except tweepy.TweepError as e:\n",
    "            print(\"Fail\")\n",
    "            fails_dict[tweet_id] = e\n",
    "            pass\n",
    "end = timer()\n",
    "print(end - start)\n",
    "#print(fails_dict)\n"
   ]
  },
  {
   "cell_type": "markdown",
   "metadata": {},
   "source": [
    "Now we have used the API and JSON file structure to obtain the information needed, we will take it from our text file and create a new dataframe."
   ]
  },
  {
   "cell_type": "code",
   "execution_count": 6,
   "metadata": {},
   "outputs": [
    {
     "data": {
      "text/html": [
       "<div>\n",
       "<style scoped>\n",
       "    .dataframe tbody tr th:only-of-type {\n",
       "        vertical-align: middle;\n",
       "    }\n",
       "\n",
       "    .dataframe tbody tr th {\n",
       "        vertical-align: top;\n",
       "    }\n",
       "\n",
       "    .dataframe thead th {\n",
       "        text-align: right;\n",
       "    }\n",
       "</style>\n",
       "<table border=\"1\" class=\"dataframe\">\n",
       "  <thead>\n",
       "    <tr style=\"text-align: right;\">\n",
       "      <th></th>\n",
       "      <th>tweet_id</th>\n",
       "      <th>retweets</th>\n",
       "      <th>favorites</th>\n",
       "    </tr>\n",
       "  </thead>\n",
       "  <tbody>\n",
       "    <tr>\n",
       "      <th>2349</th>\n",
       "      <td>666049248165822465</td>\n",
       "      <td>41</td>\n",
       "      <td>111</td>\n",
       "    </tr>\n",
       "    <tr>\n",
       "      <th>2350</th>\n",
       "      <td>666044226329800704</td>\n",
       "      <td>147</td>\n",
       "      <td>311</td>\n",
       "    </tr>\n",
       "    <tr>\n",
       "      <th>2351</th>\n",
       "      <td>666033412701032449</td>\n",
       "      <td>47</td>\n",
       "      <td>128</td>\n",
       "    </tr>\n",
       "    <tr>\n",
       "      <th>2352</th>\n",
       "      <td>666029285002620928</td>\n",
       "      <td>48</td>\n",
       "      <td>132</td>\n",
       "    </tr>\n",
       "    <tr>\n",
       "      <th>2353</th>\n",
       "      <td>666020888022790149</td>\n",
       "      <td>532</td>\n",
       "      <td>2535</td>\n",
       "    </tr>\n",
       "  </tbody>\n",
       "</table>\n",
       "</div>"
      ],
      "text/plain": [
       "                tweet_id  retweets  favorites\n",
       "2349  666049248165822465        41        111\n",
       "2350  666044226329800704       147        311\n",
       "2351  666033412701032449        47        128\n",
       "2352  666029285002620928        48        132\n",
       "2353  666020888022790149       532       2535"
      ]
     },
     "execution_count": 6,
     "metadata": {},
     "output_type": "execute_result"
    }
   ],
   "source": [
    "### read the information from the twitter API text file into a dataframe:\n",
    "import json\n",
    "# empty list to store data\n",
    "data = []\n",
    "with open('tweet_json.txt','r') as json_file:\n",
    "    for line in json_file:\n",
    "        current_dic = json.loads(line)\n",
    "        tweet_id = current_dic['id']\n",
    "        retweets = current_dic['retweet_count']\n",
    "        favorites = current_dic['favorite_count']\n",
    "        data.append({'tweet_id':tweet_id,'retweets':retweets,'favorites':favorites})\n",
    "twit_api = pd.DataFrame(data)\n",
    "twit_api.tail()    "
   ]
  },
  {
   "cell_type": "markdown",
   "metadata": {},
   "source": [
    "### Wrangle Data <a name=\"wrangle\"></a>\n",
    "\n",
    "In this stage we will begin to wrangle our data by cleaning and tidying the data to end up with a dataset which would be suitable for exploratory analysis.\n",
    "\n",
    "### Assess <a name=\"assess\"></a>\n",
    "\n",
    "First we will assess our data both using code and visual assessment to identify any issues with the data. These issues will then be resolved and the data can then be tidied."
   ]
  },
  {
   "cell_type": "code",
   "execution_count": 7,
   "metadata": {},
   "outputs": [
    {
     "name": "stdout",
     "output_type": "stream",
     "text": [
      "<class 'pandas.core.frame.DataFrame'>\n",
      "RangeIndex: 2356 entries, 0 to 2355\n",
      "Data columns (total 17 columns):\n",
      " #   Column                      Non-Null Count  Dtype  \n",
      "---  ------                      --------------  -----  \n",
      " 0   tweet_id                    2356 non-null   int64  \n",
      " 1   in_reply_to_status_id       78 non-null     float64\n",
      " 2   in_reply_to_user_id         78 non-null     float64\n",
      " 3   timestamp                   2356 non-null   object \n",
      " 4   source                      2356 non-null   object \n",
      " 5   text                        2356 non-null   object \n",
      " 6   retweeted_status_id         181 non-null    float64\n",
      " 7   retweeted_status_user_id    181 non-null    float64\n",
      " 8   retweeted_status_timestamp  181 non-null    object \n",
      " 9   expanded_urls               2297 non-null   object \n",
      " 10  rating_numerator            2356 non-null   int64  \n",
      " 11  rating_denominator          2356 non-null   int64  \n",
      " 12  name                        2356 non-null   object \n",
      " 13  doggo                       2356 non-null   object \n",
      " 14  floofer                     2356 non-null   object \n",
      " 15  pupper                      2356 non-null   object \n",
      " 16  puppo                       2356 non-null   object \n",
      "dtypes: float64(4), int64(3), object(10)\n",
      "memory usage: 313.0+ KB\n"
     ]
    }
   ],
   "source": [
    "twit_archive.head()\n",
    "twit_archive.tail()\n",
    "twit_archive.sample(100)\n",
    "twit_archive.info()"
   ]
  },
  {
   "cell_type": "code",
   "execution_count": 8,
   "metadata": {},
   "outputs": [
    {
     "name": "stdout",
     "output_type": "stream",
     "text": [
      "<class 'pandas.core.frame.DataFrame'>\n",
      "RangeIndex: 2075 entries, 0 to 2074\n",
      "Data columns (total 12 columns):\n",
      " #   Column    Non-Null Count  Dtype  \n",
      "---  ------    --------------  -----  \n",
      " 0   tweet_id  2075 non-null   int64  \n",
      " 1   jpg_url   2075 non-null   object \n",
      " 2   img_num   2075 non-null   int64  \n",
      " 3   p1        2075 non-null   object \n",
      " 4   p1_conf   2075 non-null   float64\n",
      " 5   p1_dog    2075 non-null   bool   \n",
      " 6   p2        2075 non-null   object \n",
      " 7   p2_conf   2075 non-null   float64\n",
      " 8   p2_dog    2075 non-null   bool   \n",
      " 9   p3        2075 non-null   object \n",
      " 10  p3_conf   2075 non-null   float64\n",
      " 11  p3_dog    2075 non-null   bool   \n",
      "dtypes: bool(3), float64(3), int64(2), object(4)\n",
      "memory usage: 152.1+ KB\n"
     ]
    }
   ],
   "source": [
    "image_predicts.head()\n",
    "image_predicts.tail()\n",
    "image_predicts.sample(100)\n",
    "image_predicts.info()"
   ]
  },
  {
   "cell_type": "code",
   "execution_count": 9,
   "metadata": {},
   "outputs": [
    {
     "name": "stdout",
     "output_type": "stream",
     "text": [
      "<class 'pandas.core.frame.DataFrame'>\n",
      "RangeIndex: 2354 entries, 0 to 2353\n",
      "Data columns (total 3 columns):\n",
      " #   Column     Non-Null Count  Dtype\n",
      "---  ------     --------------  -----\n",
      " 0   tweet_id   2354 non-null   int64\n",
      " 1   retweets   2354 non-null   int64\n",
      " 2   favorites  2354 non-null   int64\n",
      "dtypes: int64(3)\n",
      "memory usage: 55.3 KB\n"
     ]
    }
   ],
   "source": [
    "twit_api.head()\n",
    "twit_api.tail()\n",
    "twit_api.sample(100)\n",
    "twit_api.info()"
   ]
  },
  {
   "cell_type": "markdown",
   "metadata": {},
   "source": [
    "#### Issues identified during assessment:\n",
    "\n",
    "After assessing the data the following content issues have been identified:\n",
    "\n",
    "1) Leftover HTML code in source column in twit_archive table.\n",
    "\n",
    "2) URLS in the expanded URL column in the twit_archive table are repeated more than once for each entry. Sometimes containing URLS not related to the tweets made by this account.\n",
    "\n",
    "3) The columns rating_numerator and rating numerator in the twit_archive table have minimum values of 0, check if this is an error.\n",
    "\n",
    "4) Many items in the names column of the twit_archive table are not correct dog names or the parser has picked up an incorrect string by mistake.\n",
    "\n",
    "5) In the timestamp column in the twit_archive table, there appears to be a timezone value with has zero for all values.\n",
    "\n",
    "6) There is not a predicted dogtype column in the image_prediction table.\n",
    "\n",
    "7) There is not a single confidence probability in the image prediction table for the dog predicted.\n",
    "\n",
    "8) There are incorrect datatypes across all tables, tweet_id should be changed to string, timestamp should be datetime etc.\n",
    "\n",
    "Tidiness issues:\n",
    "\n",
    "1) The columns doggo,floofer,pupper,puppo need to be collapsed into a single variable.\n",
    "\n",
    "2) We are not interested in analysing retweets or replies so all these rows and columns must be removed.\n",
    "\n",
    "3) We need to merge columns into one table that follows the three rules for tidy data."
   ]
  },
  {
   "cell_type": "markdown",
   "metadata": {},
   "source": [
    "### Clean Data: <a name=\"clean\"></a>\n",
    "\n",
    "Now we will clean our data, attempting to resolve the issues mentioned above. For each issue we will **define** the problem, then write **code** to find a solution, and then **test** that the code has worked as expected. \n",
    "\n",
    "First we create working copies of all datasets in case the original data needs to be referred to:"
   ]
  },
  {
   "cell_type": "code",
   "execution_count": 10,
   "metadata": {},
   "outputs": [],
   "source": [
    "twit_archive_edit = twit_archive.copy()\n",
    "image_predicts_edit = image_predicts.copy()\n",
    "twit_api_edit = twit_api.copy()"
   ]
  },
  {
   "cell_type": "markdown",
   "metadata": {},
   "source": [
    "#### Content Issue No. 1:\n",
    "\n",
    "#### Define: \n",
    "\n",
    "The source column in the twitter archive table contains uneeded html tags leftover from the extraction process. Use split function to obtain website only."
   ]
  },
  {
   "cell_type": "markdown",
   "metadata": {},
   "source": [
    "#### Code:"
   ]
  },
  {
   "cell_type": "code",
   "execution_count": 11,
   "metadata": {},
   "outputs": [],
   "source": [
    "#split and exract single source\n",
    "twit_archive_edit['source_n']=twit_archive_edit['source'].str.split(pat='\"')\n",
    "twit_archive_edit['source_n']=twit_archive_edit['source_n'].map(lambda x:x[1])"
   ]
  },
  {
   "cell_type": "markdown",
   "metadata": {},
   "source": [
    "#### Test: "
   ]
  },
  {
   "cell_type": "code",
   "execution_count": 12,
   "metadata": {},
   "outputs": [
    {
     "data": {
      "text/plain": [
       "http://twitter.com/download/iphone              2221\n",
       "http://vine.co                                    91\n",
       "http://twitter.com                                33\n",
       "https://about.twitter.com/products/tweetdeck      11\n",
       "Name: source_n, dtype: int64"
      ]
     },
     "execution_count": 12,
     "metadata": {},
     "output_type": "execute_result"
    }
   ],
   "source": [
    "#check the value counts to check the source column has been processed correctly\n",
    "twit_archive_edit['source_n'].value_counts()"
   ]
  },
  {
   "cell_type": "markdown",
   "metadata": {},
   "source": [
    "#### Content Issue No. 2:\n",
    "\n",
    "#### Define: \n",
    "\n",
    "Many URLS in the expanded URL column in the twit_archive table are repeated more than once for each entry.\n",
    "Use a map function with custom function to check if there is more than one identical url, if so split into parts and select the first."
   ]
  },
  {
   "cell_type": "markdown",
   "metadata": {},
   "source": [
    "#### Code:"
   ]
  },
  {
   "cell_type": "code",
   "execution_count": 13,
   "metadata": {
    "scrolled": true
   },
   "outputs": [],
   "source": [
    "#define function to use inside the apply function to return a single URL\n",
    "def url_fix(url):\n",
    "    if (',' in str(url)) == True:\n",
    "        split = url.split(',')\n",
    "        for x in range(len(split)):\n",
    "            if ('twitter' in split[x]) == True:\n",
    "                return split[x]\n",
    "            else:\n",
    "                continue\n",
    "        return split[0]\n",
    "    else:\n",
    "        return url\n",
    "        \n",
    "#create new column with single url\n",
    "twit_archive_edit['urls_new']=twit_archive_edit['expanded_urls'].map(url_fix,na_action='ignore')"
   ]
  },
  {
   "cell_type": "markdown",
   "metadata": {},
   "source": [
    "#### Test:"
   ]
  },
  {
   "cell_type": "code",
   "execution_count": 14,
   "metadata": {},
   "outputs": [
    {
     "data": {
      "text/plain": [
       "nan"
      ]
     },
     "execution_count": 14,
     "metadata": {},
     "output_type": "execute_result"
    }
   ],
   "source": [
    "#visually check\n",
    "twit_archive_edit[['expanded_urls','urls_new']]\n",
    "#make sure new urls column no longer contains multiple links per url , returns Nan so this is correct\n",
    "sum(twit_archive_edit.urls_new.str.contains(pat=','))"
   ]
  },
  {
   "cell_type": "markdown",
   "metadata": {},
   "source": [
    "#### Content Issue No. 3:\n",
    "\n",
    "#### Define: \n",
    "\n",
    "We see that for columns rating_numerator and rating numerator in the twit_archive table, the minimum values for these columns is 0. This could be an error so we check and see if it needs fixing:"
   ]
  },
  {
   "cell_type": "markdown",
   "metadata": {},
   "source": [
    "#### Code:"
   ]
  },
  {
   "cell_type": "code",
   "execution_count": 15,
   "metadata": {
    "scrolled": true
   },
   "outputs": [
    {
     "data": {
      "text/html": [
       "<div>\n",
       "<style scoped>\n",
       "    .dataframe tbody tr th:only-of-type {\n",
       "        vertical-align: middle;\n",
       "    }\n",
       "\n",
       "    .dataframe tbody tr th {\n",
       "        vertical-align: top;\n",
       "    }\n",
       "\n",
       "    .dataframe thead th {\n",
       "        text-align: right;\n",
       "    }\n",
       "</style>\n",
       "<table border=\"1\" class=\"dataframe\">\n",
       "  <thead>\n",
       "    <tr style=\"text-align: right;\">\n",
       "      <th></th>\n",
       "      <th>tweet_id</th>\n",
       "      <th>in_reply_to_status_id</th>\n",
       "      <th>in_reply_to_user_id</th>\n",
       "      <th>timestamp</th>\n",
       "      <th>source</th>\n",
       "      <th>text</th>\n",
       "      <th>retweeted_status_id</th>\n",
       "      <th>retweeted_status_user_id</th>\n",
       "      <th>retweeted_status_timestamp</th>\n",
       "      <th>expanded_urls</th>\n",
       "      <th>rating_numerator</th>\n",
       "      <th>rating_denominator</th>\n",
       "      <th>name</th>\n",
       "      <th>doggo</th>\n",
       "      <th>floofer</th>\n",
       "      <th>pupper</th>\n",
       "      <th>puppo</th>\n",
       "      <th>source_n</th>\n",
       "      <th>urls_new</th>\n",
       "    </tr>\n",
       "  </thead>\n",
       "  <tbody>\n",
       "    <tr>\n",
       "      <th>313</th>\n",
       "      <td>835246439529840640</td>\n",
       "      <td>8.352460e+17</td>\n",
       "      <td>2.625958e+07</td>\n",
       "      <td>2017-02-24 21:54:03 +0000</td>\n",
       "      <td>&lt;a href=\"http://twitter.com/download/iphone\" r...</td>\n",
       "      <td>@jonnysun @Lin_Manuel ok jomny I know you're e...</td>\n",
       "      <td>NaN</td>\n",
       "      <td>NaN</td>\n",
       "      <td>NaN</td>\n",
       "      <td>NaN</td>\n",
       "      <td>960</td>\n",
       "      <td>0</td>\n",
       "      <td>None</td>\n",
       "      <td>None</td>\n",
       "      <td>None</td>\n",
       "      <td>None</td>\n",
       "      <td>None</td>\n",
       "      <td>http://twitter.com/download/iphone</td>\n",
       "      <td>NaN</td>\n",
       "    </tr>\n",
       "    <tr>\n",
       "      <th>315</th>\n",
       "      <td>835152434251116546</td>\n",
       "      <td>NaN</td>\n",
       "      <td>NaN</td>\n",
       "      <td>2017-02-24 15:40:31 +0000</td>\n",
       "      <td>&lt;a href=\"http://twitter.com/download/iphone\" r...</td>\n",
       "      <td>When you're so blinded by your systematic plag...</td>\n",
       "      <td>NaN</td>\n",
       "      <td>NaN</td>\n",
       "      <td>NaN</td>\n",
       "      <td>https://twitter.com/dog_rates/status/835152434...</td>\n",
       "      <td>0</td>\n",
       "      <td>10</td>\n",
       "      <td>None</td>\n",
       "      <td>None</td>\n",
       "      <td>None</td>\n",
       "      <td>None</td>\n",
       "      <td>None</td>\n",
       "      <td>http://twitter.com/download/iphone</td>\n",
       "      <td>https://twitter.com/dog_rates/status/835152434...</td>\n",
       "    </tr>\n",
       "    <tr>\n",
       "      <th>1016</th>\n",
       "      <td>746906459439529985</td>\n",
       "      <td>7.468859e+17</td>\n",
       "      <td>4.196984e+09</td>\n",
       "      <td>2016-06-26 03:22:31 +0000</td>\n",
       "      <td>&lt;a href=\"http://twitter.com/download/iphone\" r...</td>\n",
       "      <td>PUPDATE: can't see any. Even if I could, I cou...</td>\n",
       "      <td>NaN</td>\n",
       "      <td>NaN</td>\n",
       "      <td>NaN</td>\n",
       "      <td>https://twitter.com/dog_rates/status/746906459...</td>\n",
       "      <td>0</td>\n",
       "      <td>10</td>\n",
       "      <td>None</td>\n",
       "      <td>None</td>\n",
       "      <td>None</td>\n",
       "      <td>None</td>\n",
       "      <td>None</td>\n",
       "      <td>http://twitter.com/download/iphone</td>\n",
       "      <td>https://twitter.com/dog_rates/status/746906459...</td>\n",
       "    </tr>\n",
       "  </tbody>\n",
       "</table>\n",
       "</div>"
      ],
      "text/plain": [
       "                tweet_id  in_reply_to_status_id  in_reply_to_user_id  \\\n",
       "313   835246439529840640           8.352460e+17         2.625958e+07   \n",
       "315   835152434251116546                    NaN                  NaN   \n",
       "1016  746906459439529985           7.468859e+17         4.196984e+09   \n",
       "\n",
       "                      timestamp  \\\n",
       "313   2017-02-24 21:54:03 +0000   \n",
       "315   2017-02-24 15:40:31 +0000   \n",
       "1016  2016-06-26 03:22:31 +0000   \n",
       "\n",
       "                                                 source  \\\n",
       "313   <a href=\"http://twitter.com/download/iphone\" r...   \n",
       "315   <a href=\"http://twitter.com/download/iphone\" r...   \n",
       "1016  <a href=\"http://twitter.com/download/iphone\" r...   \n",
       "\n",
       "                                                   text  retweeted_status_id  \\\n",
       "313   @jonnysun @Lin_Manuel ok jomny I know you're e...                  NaN   \n",
       "315   When you're so blinded by your systematic plag...                  NaN   \n",
       "1016  PUPDATE: can't see any. Even if I could, I cou...                  NaN   \n",
       "\n",
       "      retweeted_status_user_id retweeted_status_timestamp  \\\n",
       "313                        NaN                        NaN   \n",
       "315                        NaN                        NaN   \n",
       "1016                       NaN                        NaN   \n",
       "\n",
       "                                          expanded_urls  rating_numerator  \\\n",
       "313                                                 NaN               960   \n",
       "315   https://twitter.com/dog_rates/status/835152434...                 0   \n",
       "1016  https://twitter.com/dog_rates/status/746906459...                 0   \n",
       "\n",
       "      rating_denominator  name doggo floofer pupper puppo  \\\n",
       "313                    0  None  None    None   None  None   \n",
       "315                   10  None  None    None   None  None   \n",
       "1016                  10  None  None    None   None  None   \n",
       "\n",
       "                                source_n  \\\n",
       "313   http://twitter.com/download/iphone   \n",
       "315   http://twitter.com/download/iphone   \n",
       "1016  http://twitter.com/download/iphone   \n",
       "\n",
       "                                               urls_new  \n",
       "313                                                 NaN  \n",
       "315   https://twitter.com/dog_rates/status/835152434...  \n",
       "1016  https://twitter.com/dog_rates/status/746906459...  "
      ]
     },
     "execution_count": 15,
     "metadata": {},
     "output_type": "execute_result"
    }
   ],
   "source": [
    "#find rows with zero for numerator or denominator\n",
    "twit_archive_edit.loc[(twit_archive_edit['rating_numerator']==0)|(twit_archive_edit['rating_denominator']==0)]"
   ]
  },
  {
   "cell_type": "markdown",
   "metadata": {},
   "source": [
    "We see there are three rows with this issue. The second and third rows appear to be legitimate uses of a nominator of zero. The first row looks like the account is correcting another user who wrote (960/00) and the text extraction hs picked up the wrong set of numbers by mistake. We will change this as follows: "
   ]
  },
  {
   "cell_type": "code",
   "execution_count": 16,
   "metadata": {},
   "outputs": [],
   "source": [
    "#assign the correct values for this row\n",
    "twit_archive_edit.at[twit_archive_edit['tweet_id']==835246439529840640,'rating_numerator']=13\n",
    "twit_archive_edit.at[twit_archive_edit['tweet_id']==835246439529840640,'rating_denominator']=10"
   ]
  },
  {
   "cell_type": "markdown",
   "metadata": {},
   "source": [
    "#### Test:"
   ]
  },
  {
   "cell_type": "code",
   "execution_count": 17,
   "metadata": {},
   "outputs": [
    {
     "data": {
      "text/html": [
       "<div>\n",
       "<style scoped>\n",
       "    .dataframe tbody tr th:only-of-type {\n",
       "        vertical-align: middle;\n",
       "    }\n",
       "\n",
       "    .dataframe tbody tr th {\n",
       "        vertical-align: top;\n",
       "    }\n",
       "\n",
       "    .dataframe thead th {\n",
       "        text-align: right;\n",
       "    }\n",
       "</style>\n",
       "<table border=\"1\" class=\"dataframe\">\n",
       "  <thead>\n",
       "    <tr style=\"text-align: right;\">\n",
       "      <th></th>\n",
       "      <th>tweet_id</th>\n",
       "      <th>in_reply_to_status_id</th>\n",
       "      <th>in_reply_to_user_id</th>\n",
       "      <th>timestamp</th>\n",
       "      <th>source</th>\n",
       "      <th>text</th>\n",
       "      <th>retweeted_status_id</th>\n",
       "      <th>retweeted_status_user_id</th>\n",
       "      <th>retweeted_status_timestamp</th>\n",
       "      <th>expanded_urls</th>\n",
       "      <th>rating_numerator</th>\n",
       "      <th>rating_denominator</th>\n",
       "      <th>name</th>\n",
       "      <th>doggo</th>\n",
       "      <th>floofer</th>\n",
       "      <th>pupper</th>\n",
       "      <th>puppo</th>\n",
       "      <th>source_n</th>\n",
       "      <th>urls_new</th>\n",
       "    </tr>\n",
       "  </thead>\n",
       "  <tbody>\n",
       "    <tr>\n",
       "      <th>313</th>\n",
       "      <td>835246439529840640</td>\n",
       "      <td>8.352460e+17</td>\n",
       "      <td>26259576.0</td>\n",
       "      <td>2017-02-24 21:54:03 +0000</td>\n",
       "      <td>&lt;a href=\"http://twitter.com/download/iphone\" r...</td>\n",
       "      <td>@jonnysun @Lin_Manuel ok jomny I know you're e...</td>\n",
       "      <td>NaN</td>\n",
       "      <td>NaN</td>\n",
       "      <td>NaN</td>\n",
       "      <td>NaN</td>\n",
       "      <td>13</td>\n",
       "      <td>10</td>\n",
       "      <td>None</td>\n",
       "      <td>None</td>\n",
       "      <td>None</td>\n",
       "      <td>None</td>\n",
       "      <td>None</td>\n",
       "      <td>http://twitter.com/download/iphone</td>\n",
       "      <td>NaN</td>\n",
       "    </tr>\n",
       "  </tbody>\n",
       "</table>\n",
       "</div>"
      ],
      "text/plain": [
       "               tweet_id  in_reply_to_status_id  in_reply_to_user_id  \\\n",
       "313  835246439529840640           8.352460e+17           26259576.0   \n",
       "\n",
       "                     timestamp  \\\n",
       "313  2017-02-24 21:54:03 +0000   \n",
       "\n",
       "                                                source  \\\n",
       "313  <a href=\"http://twitter.com/download/iphone\" r...   \n",
       "\n",
       "                                                  text  retweeted_status_id  \\\n",
       "313  @jonnysun @Lin_Manuel ok jomny I know you're e...                  NaN   \n",
       "\n",
       "     retweeted_status_user_id retweeted_status_timestamp expanded_urls  \\\n",
       "313                       NaN                        NaN           NaN   \n",
       "\n",
       "     rating_numerator  rating_denominator  name doggo floofer pupper puppo  \\\n",
       "313                13                  10  None  None    None   None  None   \n",
       "\n",
       "                               source_n urls_new  \n",
       "313  http://twitter.com/download/iphone      NaN  "
      ]
     },
     "execution_count": 17,
     "metadata": {},
     "output_type": "execute_result"
    }
   ],
   "source": [
    "#check specific row\n",
    "twit_archive_edit.loc[twit_archive_edit['tweet_id']==835246439529840640]"
   ]
  },
  {
   "cell_type": "markdown",
   "metadata": {},
   "source": [
    "#### Content Issue No 4:\n",
    "\n",
    "#### Define: \n",
    "\n",
    "There are many items for names of dogs in the names column of the twit_archive table which are not correct dog names or the parser has picked up an incorrect string by mistake. Find all invalid dog names and set them to 'None'."
   ]
  },
  {
   "cell_type": "markdown",
   "metadata": {},
   "source": [
    "#### Code:"
   ]
  },
  {
   "cell_type": "code",
   "execution_count": 18,
   "metadata": {},
   "outputs": [],
   "source": [
    "#check names of dogs\n",
    "all_names = []\n",
    "all_names = twit_archive_edit['name'].value_counts().sort_index().index\n",
    "#create list of common badnames, usually lower case letters, \n",
    "#found at the end of the name list when sorted by most popular to least popular\n",
    "bad_names = all_names[932:]\n",
    "#locate and correct bad names\n",
    "bad_rows_name = twit_archive_edit.loc[twit_archive_edit['name'].isin(bad_names)]\n",
    "twit_archive_edit.loc[bad_rows_name.index,'name']='None'"
   ]
  },
  {
   "cell_type": "markdown",
   "metadata": {},
   "source": [
    "#### Test:"
   ]
  },
  {
   "cell_type": "code",
   "execution_count": 19,
   "metadata": {},
   "outputs": [
    {
     "data": {
      "text/plain": [
       "None       854\n",
       "Charlie     12\n",
       "Cooper      11\n",
       "Oliver      11\n",
       "Lucy        11\n",
       "          ... \n",
       "Chef         1\n",
       "Blanket      1\n",
       "Sully        1\n",
       "Erik         1\n",
       "Schnozz      1\n",
       "Name: name, Length: 932, dtype: int64"
      ]
     },
     "execution_count": 19,
     "metadata": {},
     "output_type": "execute_result"
    }
   ],
   "source": [
    "#check bad names have been remove\n",
    "twit_archive_edit.loc[twit_archive_edit['name'].isin(bad_names)]\n",
    "twit_archive_edit['name'].value_counts()"
   ]
  },
  {
   "cell_type": "markdown",
   "metadata": {},
   "source": [
    "#### Content Issue No 5:\n",
    "\n",
    "#### Define: \n",
    "\n",
    "In the timestamp column in the twit_archive table, there appears to be a timezone value with has zero for all values. This will be removed so the entire column can be changed into datetime format."
   ]
  },
  {
   "cell_type": "markdown",
   "metadata": {},
   "source": [
    "#### Code:"
   ]
  },
  {
   "cell_type": "code",
   "execution_count": 20,
   "metadata": {},
   "outputs": [],
   "source": [
    "#split timestamp column on the plus symbol to isolate timezone\n",
    "timestamp_split = twit_archive_edit['timestamp'].str.split(pat='+',expand=True)\n",
    "#check to make sure there is no valid information in the timezone part\n",
    "timestamp_split[1].value_counts()\n",
    "#we see there is no relevant information in this part of the timestamp column \n",
    "#so it can be discarded\n",
    "twit_archive_edit['timestamp_n']=timestamp_split[0]"
   ]
  },
  {
   "cell_type": "markdown",
   "metadata": {},
   "source": [
    "#### Test:"
   ]
  },
  {
   "cell_type": "code",
   "execution_count": 21,
   "metadata": {},
   "outputs": [
    {
     "data": {
      "text/html": [
       "<div>\n",
       "<style scoped>\n",
       "    .dataframe tbody tr th:only-of-type {\n",
       "        vertical-align: middle;\n",
       "    }\n",
       "\n",
       "    .dataframe tbody tr th {\n",
       "        vertical-align: top;\n",
       "    }\n",
       "\n",
       "    .dataframe thead th {\n",
       "        text-align: right;\n",
       "    }\n",
       "</style>\n",
       "<table border=\"1\" class=\"dataframe\">\n",
       "  <thead>\n",
       "    <tr style=\"text-align: right;\">\n",
       "      <th></th>\n",
       "      <th>tweet_id</th>\n",
       "      <th>in_reply_to_status_id</th>\n",
       "      <th>in_reply_to_user_id</th>\n",
       "      <th>timestamp</th>\n",
       "      <th>source</th>\n",
       "      <th>text</th>\n",
       "      <th>retweeted_status_id</th>\n",
       "      <th>retweeted_status_user_id</th>\n",
       "      <th>retweeted_status_timestamp</th>\n",
       "      <th>expanded_urls</th>\n",
       "      <th>rating_numerator</th>\n",
       "      <th>rating_denominator</th>\n",
       "      <th>name</th>\n",
       "      <th>doggo</th>\n",
       "      <th>floofer</th>\n",
       "      <th>pupper</th>\n",
       "      <th>puppo</th>\n",
       "      <th>source_n</th>\n",
       "      <th>urls_new</th>\n",
       "      <th>timestamp_n</th>\n",
       "    </tr>\n",
       "  </thead>\n",
       "  <tbody>\n",
       "    <tr>\n",
       "      <th>0</th>\n",
       "      <td>892420643555336193</td>\n",
       "      <td>NaN</td>\n",
       "      <td>NaN</td>\n",
       "      <td>2017-08-01 16:23:56 +0000</td>\n",
       "      <td>&lt;a href=\"http://twitter.com/download/iphone\" r...</td>\n",
       "      <td>This is Phineas. He's a mystical boy. Only eve...</td>\n",
       "      <td>NaN</td>\n",
       "      <td>NaN</td>\n",
       "      <td>NaN</td>\n",
       "      <td>https://twitter.com/dog_rates/status/892420643...</td>\n",
       "      <td>13</td>\n",
       "      <td>10</td>\n",
       "      <td>Phineas</td>\n",
       "      <td>None</td>\n",
       "      <td>None</td>\n",
       "      <td>None</td>\n",
       "      <td>None</td>\n",
       "      <td>http://twitter.com/download/iphone</td>\n",
       "      <td>https://twitter.com/dog_rates/status/892420643...</td>\n",
       "      <td>2017-08-01 16:23:56</td>\n",
       "    </tr>\n",
       "    <tr>\n",
       "      <th>1</th>\n",
       "      <td>892177421306343426</td>\n",
       "      <td>NaN</td>\n",
       "      <td>NaN</td>\n",
       "      <td>2017-08-01 00:17:27 +0000</td>\n",
       "      <td>&lt;a href=\"http://twitter.com/download/iphone\" r...</td>\n",
       "      <td>This is Tilly. She's just checking pup on you....</td>\n",
       "      <td>NaN</td>\n",
       "      <td>NaN</td>\n",
       "      <td>NaN</td>\n",
       "      <td>https://twitter.com/dog_rates/status/892177421...</td>\n",
       "      <td>13</td>\n",
       "      <td>10</td>\n",
       "      <td>Tilly</td>\n",
       "      <td>None</td>\n",
       "      <td>None</td>\n",
       "      <td>None</td>\n",
       "      <td>None</td>\n",
       "      <td>http://twitter.com/download/iphone</td>\n",
       "      <td>https://twitter.com/dog_rates/status/892177421...</td>\n",
       "      <td>2017-08-01 00:17:27</td>\n",
       "    </tr>\n",
       "    <tr>\n",
       "      <th>2</th>\n",
       "      <td>891815181378084864</td>\n",
       "      <td>NaN</td>\n",
       "      <td>NaN</td>\n",
       "      <td>2017-07-31 00:18:03 +0000</td>\n",
       "      <td>&lt;a href=\"http://twitter.com/download/iphone\" r...</td>\n",
       "      <td>This is Archie. He is a rare Norwegian Pouncin...</td>\n",
       "      <td>NaN</td>\n",
       "      <td>NaN</td>\n",
       "      <td>NaN</td>\n",
       "      <td>https://twitter.com/dog_rates/status/891815181...</td>\n",
       "      <td>12</td>\n",
       "      <td>10</td>\n",
       "      <td>Archie</td>\n",
       "      <td>None</td>\n",
       "      <td>None</td>\n",
       "      <td>None</td>\n",
       "      <td>None</td>\n",
       "      <td>http://twitter.com/download/iphone</td>\n",
       "      <td>https://twitter.com/dog_rates/status/891815181...</td>\n",
       "      <td>2017-07-31 00:18:03</td>\n",
       "    </tr>\n",
       "    <tr>\n",
       "      <th>3</th>\n",
       "      <td>891689557279858688</td>\n",
       "      <td>NaN</td>\n",
       "      <td>NaN</td>\n",
       "      <td>2017-07-30 15:58:51 +0000</td>\n",
       "      <td>&lt;a href=\"http://twitter.com/download/iphone\" r...</td>\n",
       "      <td>This is Darla. She commenced a snooze mid meal...</td>\n",
       "      <td>NaN</td>\n",
       "      <td>NaN</td>\n",
       "      <td>NaN</td>\n",
       "      <td>https://twitter.com/dog_rates/status/891689557...</td>\n",
       "      <td>13</td>\n",
       "      <td>10</td>\n",
       "      <td>Darla</td>\n",
       "      <td>None</td>\n",
       "      <td>None</td>\n",
       "      <td>None</td>\n",
       "      <td>None</td>\n",
       "      <td>http://twitter.com/download/iphone</td>\n",
       "      <td>https://twitter.com/dog_rates/status/891689557...</td>\n",
       "      <td>2017-07-30 15:58:51</td>\n",
       "    </tr>\n",
       "    <tr>\n",
       "      <th>4</th>\n",
       "      <td>891327558926688256</td>\n",
       "      <td>NaN</td>\n",
       "      <td>NaN</td>\n",
       "      <td>2017-07-29 16:00:24 +0000</td>\n",
       "      <td>&lt;a href=\"http://twitter.com/download/iphone\" r...</td>\n",
       "      <td>This is Franklin. He would like you to stop ca...</td>\n",
       "      <td>NaN</td>\n",
       "      <td>NaN</td>\n",
       "      <td>NaN</td>\n",
       "      <td>https://twitter.com/dog_rates/status/891327558...</td>\n",
       "      <td>12</td>\n",
       "      <td>10</td>\n",
       "      <td>Franklin</td>\n",
       "      <td>None</td>\n",
       "      <td>None</td>\n",
       "      <td>None</td>\n",
       "      <td>None</td>\n",
       "      <td>http://twitter.com/download/iphone</td>\n",
       "      <td>https://twitter.com/dog_rates/status/891327558...</td>\n",
       "      <td>2017-07-29 16:00:24</td>\n",
       "    </tr>\n",
       "  </tbody>\n",
       "</table>\n",
       "</div>"
      ],
      "text/plain": [
       "             tweet_id  in_reply_to_status_id  in_reply_to_user_id  \\\n",
       "0  892420643555336193                    NaN                  NaN   \n",
       "1  892177421306343426                    NaN                  NaN   \n",
       "2  891815181378084864                    NaN                  NaN   \n",
       "3  891689557279858688                    NaN                  NaN   \n",
       "4  891327558926688256                    NaN                  NaN   \n",
       "\n",
       "                   timestamp  \\\n",
       "0  2017-08-01 16:23:56 +0000   \n",
       "1  2017-08-01 00:17:27 +0000   \n",
       "2  2017-07-31 00:18:03 +0000   \n",
       "3  2017-07-30 15:58:51 +0000   \n",
       "4  2017-07-29 16:00:24 +0000   \n",
       "\n",
       "                                              source  \\\n",
       "0  <a href=\"http://twitter.com/download/iphone\" r...   \n",
       "1  <a href=\"http://twitter.com/download/iphone\" r...   \n",
       "2  <a href=\"http://twitter.com/download/iphone\" r...   \n",
       "3  <a href=\"http://twitter.com/download/iphone\" r...   \n",
       "4  <a href=\"http://twitter.com/download/iphone\" r...   \n",
       "\n",
       "                                                text  retweeted_status_id  \\\n",
       "0  This is Phineas. He's a mystical boy. Only eve...                  NaN   \n",
       "1  This is Tilly. She's just checking pup on you....                  NaN   \n",
       "2  This is Archie. He is a rare Norwegian Pouncin...                  NaN   \n",
       "3  This is Darla. She commenced a snooze mid meal...                  NaN   \n",
       "4  This is Franklin. He would like you to stop ca...                  NaN   \n",
       "\n",
       "   retweeted_status_user_id retweeted_status_timestamp  \\\n",
       "0                       NaN                        NaN   \n",
       "1                       NaN                        NaN   \n",
       "2                       NaN                        NaN   \n",
       "3                       NaN                        NaN   \n",
       "4                       NaN                        NaN   \n",
       "\n",
       "                                       expanded_urls  rating_numerator  \\\n",
       "0  https://twitter.com/dog_rates/status/892420643...                13   \n",
       "1  https://twitter.com/dog_rates/status/892177421...                13   \n",
       "2  https://twitter.com/dog_rates/status/891815181...                12   \n",
       "3  https://twitter.com/dog_rates/status/891689557...                13   \n",
       "4  https://twitter.com/dog_rates/status/891327558...                12   \n",
       "\n",
       "   rating_denominator      name doggo floofer pupper puppo  \\\n",
       "0                  10   Phineas  None    None   None  None   \n",
       "1                  10     Tilly  None    None   None  None   \n",
       "2                  10    Archie  None    None   None  None   \n",
       "3                  10     Darla  None    None   None  None   \n",
       "4                  10  Franklin  None    None   None  None   \n",
       "\n",
       "                             source_n  \\\n",
       "0  http://twitter.com/download/iphone   \n",
       "1  http://twitter.com/download/iphone   \n",
       "2  http://twitter.com/download/iphone   \n",
       "3  http://twitter.com/download/iphone   \n",
       "4  http://twitter.com/download/iphone   \n",
       "\n",
       "                                            urls_new           timestamp_n  \n",
       "0  https://twitter.com/dog_rates/status/892420643...  2017-08-01 16:23:56   \n",
       "1  https://twitter.com/dog_rates/status/892177421...  2017-08-01 00:17:27   \n",
       "2  https://twitter.com/dog_rates/status/891815181...  2017-07-31 00:18:03   \n",
       "3  https://twitter.com/dog_rates/status/891689557...  2017-07-30 15:58:51   \n",
       "4  https://twitter.com/dog_rates/status/891327558...  2017-07-29 16:00:24   "
      ]
     },
     "execution_count": 21,
     "metadata": {},
     "output_type": "execute_result"
    }
   ],
   "source": [
    "#check to make sure new timestamp column has been added and timezone has been removed\n",
    "twit_archive_edit.head()"
   ]
  },
  {
   "cell_type": "markdown",
   "metadata": {},
   "source": [
    "#### Content Issue No 6:\n",
    "\n",
    "#### Define: \n",
    "\n",
    "There is not a predicted dogtype column in the image_predicts_edit table. We check the prediction one, two or three which was used and return the predicted dogtype."
   ]
  },
  {
   "cell_type": "markdown",
   "metadata": {},
   "source": [
    "#### Code:"
   ]
  },
  {
   "cell_type": "code",
   "execution_count": 22,
   "metadata": {},
   "outputs": [],
   "source": [
    "# define function to obtain the predicted dog type from p1,p2,p3 predictions\n",
    "def dog_type(row):\n",
    "    if (row['p1_dog']==True):\n",
    "        return row['p1']\n",
    "    elif (row['p2_dog']==True):\n",
    "        return row['p2']\n",
    "    elif row['p3_dog']==True:\n",
    "        return row['p3']\n",
    "    else:\n",
    "        return 'No dog predicted'\n",
    "\n",
    "#capitalise dog names so they can be grouped togethor appropiately\n",
    "image_predicts_edit['p1']=image_predicts_edit['p1'].str.capitalize()\n",
    "image_predicts_edit['p2']=image_predicts_edit['p2'].str.capitalize()\n",
    "image_predicts_edit['p3']=image_predicts_edit['p3'].str.capitalize()\n",
    "#apply function to get predicted dog type\n",
    "image_predicts_edit['dog_pred'] = image_predicts_edit.apply(dog_type,axis=1)\n",
    "#capitalise new column\n",
    "image_predicts_edit['dog_pred'] = image_predicts_edit['dog_pred'].str.capitalize()"
   ]
  },
  {
   "cell_type": "markdown",
   "metadata": {},
   "source": [
    "#### Test:"
   ]
  },
  {
   "cell_type": "code",
   "execution_count": 23,
   "metadata": {},
   "outputs": [
    {
     "data": {
      "text/plain": [
       "No dog predicted        324\n",
       "Golden_retriever        173\n",
       "Labrador_retriever      113\n",
       "Pembroke                 96\n",
       "Chihuahua                95\n",
       "                       ... \n",
       "Bouvier_des_flandres      1\n",
       "Irish_wolfhound           1\n",
       "Japanese_spaniel          1\n",
       "Silky_terrier             1\n",
       "Standard_schnauzer        1\n",
       "Name: dog_pred, Length: 114, dtype: int64"
      ]
     },
     "execution_count": 23,
     "metadata": {},
     "output_type": "execute_result"
    }
   ],
   "source": [
    "#check predicted dog type values\n",
    "image_predicts_edit['dog_pred'].value_counts()"
   ]
  },
  {
   "cell_type": "markdown",
   "metadata": {},
   "source": [
    "#### Content Issue No 7:\n",
    "\n",
    "#### Define: \n",
    "\n",
    "There is not a single probability for the prediction confidence in the image prediction table for the dog predicted. We will return the appropiate confidence in the dog predicted result."
   ]
  },
  {
   "cell_type": "markdown",
   "metadata": {},
   "source": [
    "#### Code:"
   ]
  },
  {
   "cell_type": "code",
   "execution_count": 24,
   "metadata": {},
   "outputs": [],
   "source": [
    "#define a function to return confidence probability depending on whether p1,p2,p3 was used\n",
    "def conf_final(row):\n",
    "    if row['dog_pred'] == row['p1']:\n",
    "        return row['p1_conf']\n",
    "    elif row['dog_pred'] == row['p2']:\n",
    "        return row['p2_conf']\n",
    "    elif row['dog_pred'] == row['p3']:\n",
    "        return row['p3_conf']\n",
    "    else:\n",
    "        return None\n",
    "\n",
    "#apply function to return correct confidence probability \n",
    "image_predicts_edit['conf_total'] = image_predicts_edit.apply(conf_final,axis=1)"
   ]
  },
  {
   "cell_type": "markdown",
   "metadata": {},
   "source": [
    "#### Test:"
   ]
  },
  {
   "cell_type": "code",
   "execution_count": 25,
   "metadata": {},
   "outputs": [
    {
     "data": {
      "text/plain": [
       "0.999956    1\n",
       "0.999953    1\n",
       "0.999885    1\n",
       "0.999876    1\n",
       "0.999837    1\n",
       "           ..\n",
       "0.000081    1\n",
       "0.000077    1\n",
       "0.000062    1\n",
       "0.000014    1\n",
       "0.000010    1\n",
       "Name: conf_total, Length: 1688, dtype: int64"
      ]
     },
     "execution_count": 25,
     "metadata": {},
     "output_type": "execute_result"
    }
   ],
   "source": [
    "#check values for confidence \n",
    "image_predicts_edit['conf_total'].value_counts().sort_index(ascending=False)"
   ]
  },
  {
   "cell_type": "markdown",
   "metadata": {},
   "source": [
    "#### Content issue No 8:\n",
    "\n",
    "#### Define: \n",
    "\n",
    "Fix incorrect data types change all tweet_id to string, timestamp_n to datetime type."
   ]
  },
  {
   "cell_type": "markdown",
   "metadata": {},
   "source": [
    "#### Code:"
   ]
  },
  {
   "cell_type": "code",
   "execution_count": 26,
   "metadata": {
    "scrolled": false
   },
   "outputs": [],
   "source": [
    "#change data types\n",
    "#change tweet_id into string as it is not necessary that this value is set as an integer\n",
    "twit_archive_edit = twit_archive_edit.astype({'tweet_id':'object'})\n",
    "image_predicts_edit = image_predicts_edit.astype({'tweet_id':'object'})\n",
    "twit_api_edit = twit_api_edit.astype({'tweet_id':'object'})\n",
    "#change timestamp to datetime for easier processing\n",
    "twit_archive_edit['timestamp_n']  = pd.to_datetime(twit_archive_edit['timestamp_n'],format='%Y-%m-%d %H:%M')"
   ]
  },
  {
   "cell_type": "markdown",
   "metadata": {},
   "source": [
    "#### Test:"
   ]
  },
  {
   "cell_type": "code",
   "execution_count": 27,
   "metadata": {},
   "outputs": [
    {
     "name": "stdout",
     "output_type": "stream",
     "text": [
      "<class 'pandas.core.frame.DataFrame'>\n",
      "RangeIndex: 2356 entries, 0 to 2355\n",
      "Data columns (total 20 columns):\n",
      " #   Column                      Non-Null Count  Dtype         \n",
      "---  ------                      --------------  -----         \n",
      " 0   tweet_id                    2356 non-null   object        \n",
      " 1   in_reply_to_status_id       78 non-null     float64       \n",
      " 2   in_reply_to_user_id         78 non-null     float64       \n",
      " 3   timestamp                   2356 non-null   object        \n",
      " 4   source                      2356 non-null   object        \n",
      " 5   text                        2356 non-null   object        \n",
      " 6   retweeted_status_id         181 non-null    float64       \n",
      " 7   retweeted_status_user_id    181 non-null    float64       \n",
      " 8   retweeted_status_timestamp  181 non-null    object        \n",
      " 9   expanded_urls               2297 non-null   object        \n",
      " 10  rating_numerator            2356 non-null   int64         \n",
      " 11  rating_denominator          2356 non-null   int64         \n",
      " 12  name                        2356 non-null   object        \n",
      " 13  doggo                       2356 non-null   object        \n",
      " 14  floofer                     2356 non-null   object        \n",
      " 15  pupper                      2356 non-null   object        \n",
      " 16  puppo                       2356 non-null   object        \n",
      " 17  source_n                    2356 non-null   object        \n",
      " 18  urls_new                    2297 non-null   object        \n",
      " 19  timestamp_n                 2356 non-null   datetime64[ns]\n",
      "dtypes: datetime64[ns](1), float64(4), int64(2), object(13)\n",
      "memory usage: 368.2+ KB\n",
      "<class 'pandas.core.frame.DataFrame'>\n",
      "RangeIndex: 2354 entries, 0 to 2353\n",
      "Data columns (total 3 columns):\n",
      " #   Column     Non-Null Count  Dtype \n",
      "---  ------     --------------  ----- \n",
      " 0   tweet_id   2354 non-null   object\n",
      " 1   retweets   2354 non-null   int64 \n",
      " 2   favorites  2354 non-null   int64 \n",
      "dtypes: int64(2), object(1)\n",
      "memory usage: 55.3+ KB\n",
      "<class 'pandas.core.frame.DataFrame'>\n",
      "RangeIndex: 2075 entries, 0 to 2074\n",
      "Data columns (total 14 columns):\n",
      " #   Column      Non-Null Count  Dtype  \n",
      "---  ------      --------------  -----  \n",
      " 0   tweet_id    2075 non-null   object \n",
      " 1   jpg_url     2075 non-null   object \n",
      " 2   img_num     2075 non-null   int64  \n",
      " 3   p1          2075 non-null   object \n",
      " 4   p1_conf     2075 non-null   float64\n",
      " 5   p1_dog      2075 non-null   bool   \n",
      " 6   p2          2075 non-null   object \n",
      " 7   p2_conf     2075 non-null   float64\n",
      " 8   p2_dog      2075 non-null   bool   \n",
      " 9   p3          2075 non-null   object \n",
      " 10  p3_conf     2075 non-null   float64\n",
      " 11  p3_dog      2075 non-null   bool   \n",
      " 12  dog_pred    2075 non-null   object \n",
      " 13  conf_total  1751 non-null   float64\n",
      "dtypes: bool(3), float64(4), int64(1), object(6)\n",
      "memory usage: 184.5+ KB\n"
     ]
    }
   ],
   "source": [
    "twit_archive_edit.info()\n",
    "twit_api_edit.info()\n",
    "image_predicts_edit.info()"
   ]
  },
  {
   "cell_type": "markdown",
   "metadata": {},
   "source": [
    "### Tidy Data: <a name=\"tidy\"></a>\n",
    "\n",
    "In this section, now we have resolved the cleanliness issues, we will resolve the tidiness issues.\n",
    "We will aim for a tidy dataset following the rules of tidy data:\n",
    "\n",
    ">Tidy data is a standard way of mapping the meaning of a dataset to its structure. A dataset is messy or tidy depending on how rows, columns and tables are matched up with observations, variables and types. In tidy data:\n",
    ">\n",
    ">1) Each variable forms a column.\n",
    ">\n",
    ">2) Each observation forms a row.\n",
    ">\n",
    ">3) Each type of observational unit forms a table. <br>\n",
    "[ref](https://cran.r-project.org/web/packages/tidyr/vignettes/tidy-data.html)"
   ]
  },
  {
   "cell_type": "markdown",
   "metadata": {},
   "source": [
    "#### Tidiness issue No 1:\n",
    "#### Define: \n",
    "\n",
    "For tidy data we need to change the  doggo,floofer,pupper,puppo column into a single variable column. Also some columns have multiple dog types."
   ]
  },
  {
   "cell_type": "markdown",
   "metadata": {},
   "source": [
    "#### Code:"
   ]
  },
  {
   "cell_type": "code",
   "execution_count": 28,
   "metadata": {},
   "outputs": [
    {
     "data": {
      "text/html": [
       "<div>\n",
       "<style scoped>\n",
       "    .dataframe tbody tr th:only-of-type {\n",
       "        vertical-align: middle;\n",
       "    }\n",
       "\n",
       "    .dataframe tbody tr th {\n",
       "        vertical-align: top;\n",
       "    }\n",
       "\n",
       "    .dataframe thead th {\n",
       "        text-align: right;\n",
       "    }\n",
       "</style>\n",
       "<table border=\"1\" class=\"dataframe\">\n",
       "  <thead>\n",
       "    <tr style=\"text-align: right;\">\n",
       "      <th></th>\n",
       "      <th>doggo</th>\n",
       "      <th>floofer</th>\n",
       "      <th>pupper</th>\n",
       "      <th>puppo</th>\n",
       "      <th>count</th>\n",
       "    </tr>\n",
       "  </thead>\n",
       "  <tbody>\n",
       "    <tr>\n",
       "      <th>0</th>\n",
       "      <td>None</td>\n",
       "      <td>None</td>\n",
       "      <td>None</td>\n",
       "      <td>None</td>\n",
       "      <td>1976</td>\n",
       "    </tr>\n",
       "    <tr>\n",
       "      <th>1</th>\n",
       "      <td>None</td>\n",
       "      <td>None</td>\n",
       "      <td>None</td>\n",
       "      <td>puppo</td>\n",
       "      <td>29</td>\n",
       "    </tr>\n",
       "    <tr>\n",
       "      <th>2</th>\n",
       "      <td>None</td>\n",
       "      <td>None</td>\n",
       "      <td>pupper</td>\n",
       "      <td>None</td>\n",
       "      <td>245</td>\n",
       "    </tr>\n",
       "    <tr>\n",
       "      <th>3</th>\n",
       "      <td>None</td>\n",
       "      <td>floofer</td>\n",
       "      <td>None</td>\n",
       "      <td>None</td>\n",
       "      <td>9</td>\n",
       "    </tr>\n",
       "    <tr>\n",
       "      <th>4</th>\n",
       "      <td>doggo</td>\n",
       "      <td>None</td>\n",
       "      <td>None</td>\n",
       "      <td>None</td>\n",
       "      <td>83</td>\n",
       "    </tr>\n",
       "    <tr>\n",
       "      <th>5</th>\n",
       "      <td>doggo</td>\n",
       "      <td>None</td>\n",
       "      <td>None</td>\n",
       "      <td>puppo</td>\n",
       "      <td>1</td>\n",
       "    </tr>\n",
       "    <tr>\n",
       "      <th>6</th>\n",
       "      <td>doggo</td>\n",
       "      <td>None</td>\n",
       "      <td>pupper</td>\n",
       "      <td>None</td>\n",
       "      <td>12</td>\n",
       "    </tr>\n",
       "    <tr>\n",
       "      <th>7</th>\n",
       "      <td>doggo</td>\n",
       "      <td>floofer</td>\n",
       "      <td>None</td>\n",
       "      <td>None</td>\n",
       "      <td>1</td>\n",
       "    </tr>\n",
       "  </tbody>\n",
       "</table>\n",
       "</div>"
      ],
      "text/plain": [
       "   doggo  floofer  pupper  puppo  count\n",
       "0   None     None    None   None   1976\n",
       "1   None     None    None  puppo     29\n",
       "2   None     None  pupper   None    245\n",
       "3   None  floofer    None   None      9\n",
       "4  doggo     None    None   None     83\n",
       "5  doggo     None    None  puppo      1\n",
       "6  doggo     None  pupper   None     12\n",
       "7  doggo  floofer    None   None      1"
      ]
     },
     "execution_count": 28,
     "metadata": {},
     "output_type": "execute_result"
    }
   ],
   "source": [
    "#create copy of dataframe\n",
    "twit_archive_edit2 = twit_archive_edit.copy()\n",
    "#check for anomalous data when assigning dog type\n",
    "twit_archive_edit2.groupby([\"doggo\", \"floofer\", \"pupper\", \"puppo\"]).size().reset_index().rename(columns={0: \"count\"})"
   ]
  },
  {
   "cell_type": "markdown",
   "metadata": {},
   "source": [
    "We see above that there are a number of rows which have more than one type: 'doggo,puppo' , 'doggo,pupper' and ' doggo,floofer'. "
   ]
  },
  {
   "cell_type": "code",
   "execution_count": 29,
   "metadata": {},
   "outputs": [],
   "source": [
    "#set nones and nans to empty string for easier processing\n",
    "twit_archive_edit2.doggo.replace('None','',inplace=True)\n",
    "twit_archive_edit2.doggo.replace(np.nan,'',inplace=True)\n",
    "twit_archive_edit2.floofer.replace('None','',inplace=True)\n",
    "twit_archive_edit2.floofer.replace(np.nan,'',inplace=True)\n",
    "twit_archive_edit2.pupper.replace('None','',inplace=True)\n",
    "twit_archive_edit2.pupper.replace(np.nan,'',inplace=True)\n",
    "twit_archive_edit2.puppo.replace('None','',inplace=True)\n",
    "twit_archive_edit2.puppo.replace(np.nan,'',inplace=True)\n",
    "\n",
    "#add code for more than one type\n",
    "twit_archive_edit2['dog_nickname_type'] = twit_archive_edit2.doggo + \\\n",
    "                                        twit_archive_edit2.floofer + \\\n",
    "                                        twit_archive_edit2.pupper + \\\n",
    "                                        twit_archive_edit2.puppo\n",
    "\n",
    "#edit rows with more than one nickname type\n",
    "twit_archive_edit2.loc[twit_archive_edit2.dog_nickname_type == 'doggopupper', 'dog_nickname_type'] = 'doggo, pupper'\n",
    "twit_archive_edit2.loc[twit_archive_edit2.dog_nickname_type == 'doggopuppo', 'dog_nickname_type'] = 'doggo, puppo'\n",
    "twit_archive_edit2.loc[twit_archive_edit2.dog_nickname_type == 'doggofloofer', 'dog_nickname_type'] = 'doggo, floofer'"
   ]
  },
  {
   "cell_type": "markdown",
   "metadata": {},
   "source": [
    "#### Test:"
   ]
  },
  {
   "cell_type": "code",
   "execution_count": 30,
   "metadata": {},
   "outputs": [
    {
     "data": {
      "text/plain": [
       "                  1976\n",
       "pupper             245\n",
       "doggo               83\n",
       "puppo               29\n",
       "doggo, pupper       12\n",
       "floofer              9\n",
       "doggo, puppo         1\n",
       "doggo, floofer       1\n",
       "Name: dog_nickname_type, dtype: int64"
      ]
     },
     "execution_count": 30,
     "metadata": {},
     "output_type": "execute_result"
    }
   ],
   "source": [
    "#check\n",
    "twit_archive_edit2.sample(100)\n",
    "twit_archive_edit2.dog_nickname_type.value_counts()"
   ]
  },
  {
   "cell_type": "markdown",
   "metadata": {},
   "source": [
    "#### Tidiness issue No 2:\n",
    "\n",
    "#### Define:\n",
    "Remove columns and rows relating to retweets and replies as we are only interested in original tweets.\n",
    "\n",
    "Rows to remove:\n",
    "rows with non empty retweeted_status_id, retweeted_status_user_id, and retweeted_status_timestamp\n",
    "\n",
    "Columns to remove: in_reply_to_status_id,in_reply_to_user_id,retweeted_status_id,retweeted_status_user_id, retweeted_status_timestamp\n",
    "\n",
    "First we remove the rows:"
   ]
  },
  {
   "cell_type": "markdown",
   "metadata": {},
   "source": [
    "#### Code:"
   ]
  },
  {
   "cell_type": "code",
   "execution_count": 34,
   "metadata": {},
   "outputs": [],
   "source": [
    "#drop rows which are replies or retweets\n",
    "columns_to_check = ['in_reply_to_status_id','in_reply_to_user_id','retweeted_status_id',\\\n",
    "                'retweeted_status_user_id','retweeted_status_timestamp']\n",
    "#cycle through columns, identify bad rows and remove\n",
    "for col in columns_to_check:\n",
    "    rows_to_drop = twit_archive_edit2.loc[twit_archive_edit2[col].notnull()]\n",
    "    twit_archive_edit2.drop(index=rows_to_drop.index,inplace=True)\n",
    "    "
   ]
  },
  {
   "cell_type": "markdown",
   "metadata": {},
   "source": [
    "#### Test:"
   ]
  },
  {
   "cell_type": "code",
   "execution_count": 35,
   "metadata": {},
   "outputs": [
    {
     "name": "stdout",
     "output_type": "stream",
     "text": [
      "<class 'pandas.core.frame.DataFrame'>\n",
      "Int64Index: 2097 entries, 0 to 2355\n",
      "Data columns (total 21 columns):\n",
      " #   Column                      Non-Null Count  Dtype         \n",
      "---  ------                      --------------  -----         \n",
      " 0   tweet_id                    2097 non-null   object        \n",
      " 1   in_reply_to_status_id       0 non-null      float64       \n",
      " 2   in_reply_to_user_id         0 non-null      float64       \n",
      " 3   timestamp                   2097 non-null   object        \n",
      " 4   source                      2097 non-null   object        \n",
      " 5   text                        2097 non-null   object        \n",
      " 6   retweeted_status_id         0 non-null      float64       \n",
      " 7   retweeted_status_user_id    0 non-null      float64       \n",
      " 8   retweeted_status_timestamp  0 non-null      object        \n",
      " 9   expanded_urls               2094 non-null   object        \n",
      " 10  rating_numerator            2097 non-null   int64         \n",
      " 11  rating_denominator          2097 non-null   int64         \n",
      " 12  name                        2097 non-null   object        \n",
      " 13  doggo                       2097 non-null   object        \n",
      " 14  floofer                     2097 non-null   object        \n",
      " 15  pupper                      2097 non-null   object        \n",
      " 16  puppo                       2097 non-null   object        \n",
      " 17  source_n                    2097 non-null   object        \n",
      " 18  urls_new                    2094 non-null   object        \n",
      " 19  timestamp_n                 2097 non-null   datetime64[ns]\n",
      " 20  dog_nickname_type           2097 non-null   object        \n",
      "dtypes: datetime64[ns](1), float64(4), int64(2), object(14)\n",
      "memory usage: 360.4+ KB\n"
     ]
    }
   ],
   "source": [
    "#check their are no values left in the retweet related columns\n",
    "twit_archive_edit2.info()"
   ]
  },
  {
   "cell_type": "markdown",
   "metadata": {},
   "source": [
    "Now we remove the columns:\n",
    "\n",
    "#### Code:"
   ]
  },
  {
   "cell_type": "code",
   "execution_count": 36,
   "metadata": {},
   "outputs": [],
   "source": [
    "#drop uneeded columns\n",
    "cols_to_drop = ['in_reply_to_status_id','in_reply_to_user_id','retweeted_status_id',\\\n",
    "                 'retweeted_status_user_id','retweeted_status_timestamp',\\\n",
    "               'timestamp','source','expanded_urls']\n",
    "twit_archive_edit3 = twit_archive_edit2.drop(columns=cols_to_drop)\n",
    "\n",
    "#rearrange columns for better readability:\n",
    "list_cols = twit_archive_edit2.columns.tolist()\n",
    "new_col_order = ['tweet_id','timestamp_n','name','rating_numerator','rating_denominator','text',\\\n",
    "                'source_n','urls_new','dog_nickname_type']\n",
    "twit_archive_edit3 = twit_archive_edit2[new_col_order]"
   ]
  },
  {
   "cell_type": "markdown",
   "metadata": {},
   "source": [
    "#### Test:"
   ]
  },
  {
   "cell_type": "code",
   "execution_count": 37,
   "metadata": {},
   "outputs": [
    {
     "data": {
      "text/html": [
       "<div>\n",
       "<style scoped>\n",
       "    .dataframe tbody tr th:only-of-type {\n",
       "        vertical-align: middle;\n",
       "    }\n",
       "\n",
       "    .dataframe tbody tr th {\n",
       "        vertical-align: top;\n",
       "    }\n",
       "\n",
       "    .dataframe thead th {\n",
       "        text-align: right;\n",
       "    }\n",
       "</style>\n",
       "<table border=\"1\" class=\"dataframe\">\n",
       "  <thead>\n",
       "    <tr style=\"text-align: right;\">\n",
       "      <th></th>\n",
       "      <th>tweet_id</th>\n",
       "      <th>timestamp_n</th>\n",
       "      <th>name</th>\n",
       "      <th>rating_numerator</th>\n",
       "      <th>rating_denominator</th>\n",
       "      <th>text</th>\n",
       "      <th>source_n</th>\n",
       "      <th>urls_new</th>\n",
       "      <th>dog_nickname_type</th>\n",
       "    </tr>\n",
       "  </thead>\n",
       "  <tbody>\n",
       "    <tr>\n",
       "      <th>0</th>\n",
       "      <td>892420643555336193</td>\n",
       "      <td>2017-08-01 16:23:56</td>\n",
       "      <td>Phineas</td>\n",
       "      <td>13</td>\n",
       "      <td>10</td>\n",
       "      <td>This is Phineas. He's a mystical boy. Only eve...</td>\n",
       "      <td>http://twitter.com/download/iphone</td>\n",
       "      <td>https://twitter.com/dog_rates/status/892420643...</td>\n",
       "      <td></td>\n",
       "    </tr>\n",
       "    <tr>\n",
       "      <th>1</th>\n",
       "      <td>892177421306343426</td>\n",
       "      <td>2017-08-01 00:17:27</td>\n",
       "      <td>Tilly</td>\n",
       "      <td>13</td>\n",
       "      <td>10</td>\n",
       "      <td>This is Tilly. She's just checking pup on you....</td>\n",
       "      <td>http://twitter.com/download/iphone</td>\n",
       "      <td>https://twitter.com/dog_rates/status/892177421...</td>\n",
       "      <td></td>\n",
       "    </tr>\n",
       "    <tr>\n",
       "      <th>2</th>\n",
       "      <td>891815181378084864</td>\n",
       "      <td>2017-07-31 00:18:03</td>\n",
       "      <td>Archie</td>\n",
       "      <td>12</td>\n",
       "      <td>10</td>\n",
       "      <td>This is Archie. He is a rare Norwegian Pouncin...</td>\n",
       "      <td>http://twitter.com/download/iphone</td>\n",
       "      <td>https://twitter.com/dog_rates/status/891815181...</td>\n",
       "      <td></td>\n",
       "    </tr>\n",
       "    <tr>\n",
       "      <th>3</th>\n",
       "      <td>891689557279858688</td>\n",
       "      <td>2017-07-30 15:58:51</td>\n",
       "      <td>Darla</td>\n",
       "      <td>13</td>\n",
       "      <td>10</td>\n",
       "      <td>This is Darla. She commenced a snooze mid meal...</td>\n",
       "      <td>http://twitter.com/download/iphone</td>\n",
       "      <td>https://twitter.com/dog_rates/status/891689557...</td>\n",
       "      <td></td>\n",
       "    </tr>\n",
       "    <tr>\n",
       "      <th>4</th>\n",
       "      <td>891327558926688256</td>\n",
       "      <td>2017-07-29 16:00:24</td>\n",
       "      <td>Franklin</td>\n",
       "      <td>12</td>\n",
       "      <td>10</td>\n",
       "      <td>This is Franklin. He would like you to stop ca...</td>\n",
       "      <td>http://twitter.com/download/iphone</td>\n",
       "      <td>https://twitter.com/dog_rates/status/891327558...</td>\n",
       "      <td></td>\n",
       "    </tr>\n",
       "  </tbody>\n",
       "</table>\n",
       "</div>"
      ],
      "text/plain": [
       "             tweet_id         timestamp_n      name  rating_numerator  \\\n",
       "0  892420643555336193 2017-08-01 16:23:56   Phineas                13   \n",
       "1  892177421306343426 2017-08-01 00:17:27     Tilly                13   \n",
       "2  891815181378084864 2017-07-31 00:18:03    Archie                12   \n",
       "3  891689557279858688 2017-07-30 15:58:51     Darla                13   \n",
       "4  891327558926688256 2017-07-29 16:00:24  Franklin                12   \n",
       "\n",
       "   rating_denominator                                               text  \\\n",
       "0                  10  This is Phineas. He's a mystical boy. Only eve...   \n",
       "1                  10  This is Tilly. She's just checking pup on you....   \n",
       "2                  10  This is Archie. He is a rare Norwegian Pouncin...   \n",
       "3                  10  This is Darla. She commenced a snooze mid meal...   \n",
       "4                  10  This is Franklin. He would like you to stop ca...   \n",
       "\n",
       "                             source_n  \\\n",
       "0  http://twitter.com/download/iphone   \n",
       "1  http://twitter.com/download/iphone   \n",
       "2  http://twitter.com/download/iphone   \n",
       "3  http://twitter.com/download/iphone   \n",
       "4  http://twitter.com/download/iphone   \n",
       "\n",
       "                                            urls_new dog_nickname_type  \n",
       "0  https://twitter.com/dog_rates/status/892420643...                    \n",
       "1  https://twitter.com/dog_rates/status/892177421...                    \n",
       "2  https://twitter.com/dog_rates/status/891815181...                    \n",
       "3  https://twitter.com/dog_rates/status/891689557...                    \n",
       "4  https://twitter.com/dog_rates/status/891327558...                    "
      ]
     },
     "execution_count": 37,
     "metadata": {},
     "output_type": "execute_result"
    }
   ],
   "source": [
    "#confirm columns dropped and rearranged\n",
    "twit_archive_edit3.head()\n"
   ]
  },
  {
   "cell_type": "markdown",
   "metadata": {},
   "source": [
    "#### Tidiness issue No 3:\n",
    "\n",
    "#### Define: \n",
    "\n",
    "Merge to get user favorites and retweets in same table, add info from predictions into same table as well."
   ]
  },
  {
   "cell_type": "markdown",
   "metadata": {},
   "source": [
    "#### Code:"
   ]
  },
  {
   "cell_type": "code",
   "execution_count": 38,
   "metadata": {},
   "outputs": [],
   "source": [
    "#add favorites and retweets from twit_api table\n",
    "im_cols_to_merge:['tweet_id','dog_pred','conf_total','jpg_url'] \n",
    "im_preds_edit_merge = image_predicts_edit[['tweet_id','dog_pred','conf_total','jpg_url']]\n",
    "\n",
    "#merge twit_archive and image prediction tables\n",
    "df_clean = twit_archive_edit3.merge(im_preds_edit_merge,how='left',on='tweet_id')\n",
    "\n",
    "#merge clean table and twit_api\n",
    "df_clean2 = df_clean.merge(twit_api_edit,how='left',on='tweet_id')\n",
    "df_clean2.head()\n",
    "\n",
    "#remove uneeded columns\n",
    "df_cleanf = df_clean2.drop(columns=['source_n'])\n",
    "\n",
    "#reorder for easer readability\n",
    "df_cleanf = df_cleanf[['tweet_id','timestamp_n','rating_numerator','rating_denominator',\\\n",
    "                      'favorites','retweets','name','dog_pred','conf_total',\\\n",
    "                      'dog_nickname_type','text','urls_new','jpg_url']]\n",
    "\n",
    "#rename column headers from variables:\n",
    "df_cleanf = df_cleanf.rename(columns={'timestamp_n':'time_tweeted','dog_pred':'predicted_dog_type',\\\n",
    "                         'conf_total':'dog_prediction_confidence','text':'tweet_text',\\\n",
    "                         'urls_new':'tweet_url','jpg_url':'prediction_image_url','name':'dog_name'})"
   ]
  },
  {
   "cell_type": "markdown",
   "metadata": {},
   "source": [
    "#### Test:"
   ]
  },
  {
   "cell_type": "code",
   "execution_count": 39,
   "metadata": {},
   "outputs": [
    {
     "name": "stdout",
     "output_type": "stream",
     "text": [
      "<class 'pandas.core.frame.DataFrame'>\n",
      "Int64Index: 2097 entries, 0 to 2096\n",
      "Data columns (total 13 columns):\n",
      " #   Column                     Non-Null Count  Dtype         \n",
      "---  ------                     --------------  -----         \n",
      " 0   tweet_id                   2097 non-null   object        \n",
      " 1   time_tweeted               2097 non-null   datetime64[ns]\n",
      " 2   rating_numerator           2097 non-null   int64         \n",
      " 3   rating_denominator         2097 non-null   int64         \n",
      " 4   favorites                  2097 non-null   int64         \n",
      " 5   retweets                   2097 non-null   int64         \n",
      " 6   dog_name                   2097 non-null   object        \n",
      " 7   predicted_dog_type         1971 non-null   object        \n",
      " 8   dog_prediction_confidence  1666 non-null   float64       \n",
      " 9   dog_nickname_type          2097 non-null   object        \n",
      " 10  tweet_text                 2097 non-null   object        \n",
      " 11  tweet_url                  2094 non-null   object        \n",
      " 12  prediction_image_url       1971 non-null   object        \n",
      "dtypes: datetime64[ns](1), float64(1), int64(4), object(7)\n",
      "memory usage: 229.4+ KB\n"
     ]
    }
   ],
   "source": [
    "#check final clean dataframe\n",
    "df_cleanf.head()\n",
    "df_cleanf.info()"
   ]
  },
  {
   "cell_type": "code",
   "execution_count": 40,
   "metadata": {},
   "outputs": [],
   "source": [
    "##Assign the clean dataframe to a CSV so it can be accessed easily in the future:\n",
    "df_cleanf.to_csv('twitter_archive_master.csv',index=False)"
   ]
  },
  {
   "cell_type": "markdown",
   "metadata": {},
   "source": [
    "### Analysis: <a name=\"analysis\"></a>\n",
    "\n",
    "Now that our data has been cleaned and tidied, we can now perform some exploratory analysis on the data:"
   ]
  },
  {
   "cell_type": "markdown",
   "metadata": {},
   "source": [
    "#### Analysis Question No. 1:\n",
    "What is the most common dog name?"
   ]
  },
  {
   "cell_type": "code",
   "execution_count": 41,
   "metadata": {},
   "outputs": [
    {
     "data": {
      "text/plain": [
       "[]"
      ]
     },
     "execution_count": 41,
     "metadata": {},
     "output_type": "execute_result"
    },
    {
     "data": {
      "image/png": "[encoded data removed]",
      "text/plain": [
       "<Figure size 432x288 with 1 Axes>"
      ]
     },
     "metadata": {
      "needs_background": "light"
     },
     "output_type": "display_data"
    }
   ],
   "source": [
    "names = df_cleanf.dog_name.value_counts(ascending=False)\n",
    "to_plot = names[1:11]\n",
    "ax = to_plot.plot.bar(title='Count of top 10 most popular dog names',grid=False)\n",
    "ax.set_xlabel('Dog names')\n",
    "ax.set_ylabel('Count')\n",
    "ax.plot()"
   ]
  },
  {
   "cell_type": "markdown",
   "metadata": {},
   "source": [
    "We can see that the most popular dog name is Charlie, followed by Oliver, followed by Cooper."
   ]
  },
  {
   "cell_type": "markdown",
   "metadata": {},
   "source": [
    "#### Analysis Question No. 2: \n",
    "Is there a relationship between the number of predictions for a certain dog type and the average confidence of that prediction?"
   ]
  },
  {
   "cell_type": "code",
   "execution_count": 42,
   "metadata": {
    "scrolled": true
   },
   "outputs": [
    {
     "data": {
      "image/png": "[encoded data removed]",
      "text/plain": [
       "<Figure size 432x288 with 1 Axes>"
      ]
     },
     "metadata": {
      "needs_background": "light"
     },
     "output_type": "display_data"
    }
   ],
   "source": [
    "#make graph of no dogs vs prediction confidence\n",
    "import numpy as np\n",
    "#create series for x and y variables\n",
    "scatter_x = image_predicts_edit.dog_pred.value_counts(ascending=False)\n",
    "scatter_y = image_predicts_edit.groupby('dog_pred').conf_total.mean().sort_values(ascending=False)\n",
    "scatter_x.drop(index='No dog predicted',inplace=True)\n",
    "#get rid of Nans\n",
    "scatter_x.dropna(axis=0,inplace=True)\n",
    "scatter_y.dropna(axis=0,inplace=True)\n",
    "#create one dataframe\n",
    "scatter_both = pd.concat([scatter_x,scatter_y],axis=1,sort=True)\n",
    "#assign x and y variables\n",
    "x = scatter_both.dog_pred\n",
    "y = scatter_both.conf_total\n",
    "plt.scatter(x,y)\n",
    "plt.xlabel('Number of Dog predictions')\n",
    "plt.ylabel('Average prediction confidence')\n",
    "plt.title('Number of predictions against average prediction confidence for each dog type')\n",
    "#calculate and add line of best fit\n",
    "m, b = np.polyfit(x, y, 1)\n",
    "plt.plot(x, m*x + b,color='green')\n",
    "plt.show()"
   ]
  },
  {
   "cell_type": "markdown",
   "metadata": {},
   "source": [
    "We can see that there is a slight positive relationship between the number of dog predictions and the certainty that the prediction algorithm is correct in each case. However as the number of dog predictions is clustered between 0 and 10 predictions, and we do not have the information to see whether each prediction is correct, this type of analysis does not provide much information about the accuracy of the dog type identification, machine learning system. "
   ]
  },
  {
   "cell_type": "markdown",
   "metadata": {},
   "source": [
    "#### Analysis Question No. 3:\n",
    "\n",
    "Is there a relationship between the fractional ratings a dog receives and the amount of times the tweet is retweeted or favorited?"
   ]
  },
  {
   "cell_type": "code",
   "execution_count": 43,
   "metadata": {},
   "outputs": [
    {
     "name": "stderr",
     "output_type": "stream",
     "text": [
      "/home/leon/anaconda3/lib/python3.7/site-packages/ipykernel_launcher.py:3: SettingWithCopyWarning: \n",
      "A value is trying to be set on a copy of a slice from a DataFrame.\n",
      "Try using .loc[row_indexer,col_indexer] = value instead\n",
      "\n",
      "See the caveats in the documentation: https://pandas.pydata.org/pandas-docs/stable/user_guide/indexing.html#returning-a-view-versus-a-copy\n",
      "  This is separate from the ipykernel package so we can avoid doing imports until\n"
     ]
    },
    {
     "data": {
      "image/png": "[encoded data removed]",
      "text/plain": [
       "<Figure size 432x288 with 1 Axes>"
      ]
     },
     "metadata": {
      "needs_background": "light"
     },
     "output_type": "display_data"
    }
   ],
   "source": [
    "#normalise the fractional ratings\n",
    "ratings=df_cleanf[['rating_numerator','rating_denominator','favorites','retweets']]\n",
    "ratings['score_norm']=ratings['rating_numerator']/ratings['rating_denominator']\n",
    "#plot score norm vs retweets\n",
    "x = ratings.score_norm\n",
    "y = ratings.retweets\n",
    "plt.scatter(x,y)\n",
    "plt.xlim(0,2)\n",
    "plt.xlabel('Normalised dog rating')\n",
    "plt.ylabel('Number of retweets')\n",
    "plt.title('Normalised ratings against number of retweets')\n",
    "plt.show()"
   ]
  },
  {
   "cell_type": "code",
   "execution_count": 44,
   "metadata": {},
   "outputs": [
    {
     "data": {
      "image/png": "[encoded data removed]",
      "text/plain": [
       "<Figure size 432x288 with 1 Axes>"
      ]
     },
     "metadata": {
      "needs_background": "light"
     },
     "output_type": "display_data"
    }
   ],
   "source": [
    "#plot score vs favorites\n",
    "x1 = ratings.score_norm\n",
    "y2 = ratings.favorites\n",
    "plt.scatter(x1,y2)\n",
    "plt.xlim(0,2)\n",
    "plt.xlabel('Normalised dog rating')\n",
    "plt.ylabel('Number of favorites')\n",
    "plt.title('Normalised ratings against number of favorites')\n",
    "plt.show()"
   ]
  },
  {
   "cell_type": "markdown",
   "metadata": {},
   "source": [
    "We can see from the above scatter plots, there is a clear positive relationship between the score given to a dog in each tweet and the amount of favorites and retweets a tweet receives. This implies the higher rated dogs are more popular with the profile's followers."
   ]
  },
  {
   "cell_type": "markdown",
   "metadata": {},
   "source": [
    "#### Analysis No. 4:\n",
    "\n",
    "Is there a relationship between the time when a tweet was created and the amount of favorites and retweets it obtains?"
   ]
  },
  {
   "cell_type": "code",
   "execution_count": 45,
   "metadata": {},
   "outputs": [
    {
     "name": "stderr",
     "output_type": "stream",
     "text": [
      "/home/leon/anaconda3/lib/python3.7/site-packages/ipykernel_launcher.py:1: SettingWithCopyWarning: \n",
      "A value is trying to be set on a copy of a slice from a DataFrame.\n",
      "Try using .loc[row_indexer,col_indexer] = value instead\n",
      "\n",
      "See the caveats in the documentation: https://pandas.pydata.org/pandas-docs/stable/user_guide/indexing.html#returning-a-view-versus-a-copy\n",
      "  \"\"\"Entry point for launching an IPython kernel.\n"
     ]
    },
    {
     "data": {
      "image/png": "[encoded data removed]",
      "text/plain": [
       "<Figure size 432x288 with 1 Axes>"
      ]
     },
     "metadata": {
      "needs_background": "light"
     },
     "output_type": "display_data"
    }
   ],
   "source": [
    "ratings['hour_created']=df_cleanf['time_tweeted'].dt.hour\n",
    "x1 = ratings.hour_created\n",
    "y2 = ratings.favorites\n",
    "plt.scatter(x1,y2)\n",
    "plt.xlabel('Hour tweet created (24hr)')\n",
    "plt.ylabel('Number of favorites')\n",
    "plt.title('Hour created against number of favorites')\n",
    "plt.show()"
   ]
  },
  {
   "cell_type": "code",
   "execution_count": 46,
   "metadata": {},
   "outputs": [
    {
     "data": {
      "image/png": "[encoded data removed]",
      "text/plain": [
       "<Figure size 432x288 with 1 Axes>"
      ]
     },
     "metadata": {
      "needs_background": "light"
     },
     "output_type": "display_data"
    }
   ],
   "source": [
    "x1 = ratings.hour_created\n",
    "y2 = ratings.retweets\n",
    "plt.scatter(x1,y2)\n",
    "plt.xlabel('Hour tweet created (24hr)')\n",
    "plt.ylabel('Number of retweets')\n",
    "plt.title('Hour created against number of retweets')\n",
    "plt.show()"
   ]
  },
  {
   "cell_type": "markdown",
   "metadata": {},
   "source": [
    "We can see there is no clear relationship between the time a tweet was made and the amount of favorites or retweets it obtains. Although it is interesting to note from the distributions of hours when the tweets were made, that we can see there is a blank area between the hours of 6 and 12 GMT, presumably when the owner of the twitter account is asleep. "
   ]
  },
  {
   "cell_type": "markdown",
   "metadata": {},
   "source": [
    "### Conclusions: <a name=\"conclusions\"></a>"
   ]
  },
  {
   "cell_type": "markdown",
   "metadata": {},
   "source": [
    "After gathering our data from various sources including a twitter archive file, a JSON file created from the twitter developer API and downloading a file programatically using the requests library, various content and structural issues where identified and fixed to obtain a final dataframe of clean and tidy data.\n",
    "\n",
    "This clean and tidy data was then used to answer several questions about the information contained within the data and we learned the following insights:\n",
    "\n",
    "1) The most popular dog names were Charlie, Olver and Cooper\n",
    "\n",
    "2) There is a slight positive relationship between the number of times the algorithm predicts a dog type from the tweets and the confidence it has in its prediction.\n",
    "\n",
    "3) There is a significant positive relationship between the ratings given for each dog when tweeted and the amount of favorites and retweets the tweet receives.\n",
    "\n",
    "4) It doesn't appear there is a significant relationship between the time a tweet was made and the amount of favorites or retweets it obtains."
   ]
  }
 ],
 "metadata": {
  "kernelspec": {
   "display_name": "Python 3",
   "language": "python",
   "name": "python3"
  },
  "language_info": {
   "codemirror_mode": {
    "name": "ipython",
    "version": 3
   },
   "file_extension": ".py",
   "mimetype": "text/x-python",
   "name": "python",
   "nbconvert_exporter": "python",
   "pygments_lexer": "ipython3",
   "version": "3.7.6"
  }
 },
 "nbformat": 4,
 "nbformat_minor": 2
}
