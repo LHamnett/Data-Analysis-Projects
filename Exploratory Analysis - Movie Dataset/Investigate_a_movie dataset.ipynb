{
 "cells": [
  {
   "cell_type": "markdown",
   "metadata": {},
   "source": [
    "# Project: Investigate a Movie Dataset\n",
    "\n",
    "### Author/Analyst: Leon Hamnett  ([linkedin](https://www.linkedin.com/in/leon-hamnett-47a426a0/))\n",
    "\n",
    "\n",
    "## Table of Contents\n",
    "<ul>\n",
    "<li><a href=\"#intro\">Introduction</a></li>\n",
    "<li><a href=\"#wrangling\">Data Wrangling</a></li>\n",
    "<li><a href=\"#eda\">Exploratory Data Analysis</a></li>\n",
    "<li><a href=\"#conclusions\">Conclusions</a></li>\n",
    "</ul>"
   ]
  },
  {
   "cell_type": "markdown",
   "metadata": {},
   "source": [
    "<a id='intro'></a>\n",
    "## Introduction\n",
    "\n",
    "For this project, we will be performing exploratory analysis on the TMDB movie dataset: https://www.kaggle.com/tmdb/tmdb-movie-metadata. This data set contains information about 10,000 movies collected from\n",
    "The Movie Database (TMDb), including user ratings and revenue. The columns included in this dataset are as follows:\n",
    "\n",
    "'id', 'imdb_id', 'popularity', 'budget', 'revenue', 'original_title','cast', 'homepage', 'director', 'tagline', 'keywords', 'overview','runtime', 'genres', 'production_companies', 'release_date','vote_count', 'vote_average', 'release_year', 'budget_adj','revenue_adj'\n",
    "\n",
    "After reviewing the data the following exploratory research questions were proposed about the dataset:\n",
    "#### 1. Is a higher budget correlated with a higher revenue/higher profit?\n",
    "#### 2. Are action or romance movies rated better?"
   ]
  },
  {
   "cell_type": "code",
   "execution_count": 50,
   "metadata": {},
   "outputs": [],
   "source": [
    "#importing libraries\n",
    "import pandas as pd\n",
    "%matplotlib inline\n",
    "import matplotlib.pyplot as plt\n",
    "import numpy as np"
   ]
  },
  {
   "cell_type": "markdown",
   "metadata": {},
   "source": [
    "<a id='wrangling'></a>\n",
    "## Data Wrangling\n",
    "\n",
    "\n",
    "### General Properties"
   ]
  },
  {
   "cell_type": "code",
   "execution_count": 51,
   "metadata": {},
   "outputs": [
    {
     "name": "stdout",
     "output_type": "stream",
     "text": [
      "<class 'pandas.core.frame.DataFrame'>\n",
      "RangeIndex: 10866 entries, 0 to 10865\n",
      "Data columns (total 21 columns):\n",
      "id                      10866 non-null int64\n",
      "imdb_id                 10856 non-null object\n",
      "popularity              10866 non-null float64\n",
      "budget                  10866 non-null int64\n",
      "revenue                 10866 non-null int64\n",
      "original_title          10866 non-null object\n",
      "cast                    10790 non-null object\n",
      "homepage                2936 non-null object\n",
      "director                10822 non-null object\n",
      "tagline                 8042 non-null object\n",
      "keywords                9373 non-null object\n",
      "overview                10862 non-null object\n",
      "runtime                 10866 non-null int64\n",
      "genres                  10843 non-null object\n",
      "production_companies    9836 non-null object\n",
      "release_date            10866 non-null object\n",
      "vote_count              10866 non-null int64\n",
      "vote_average            10866 non-null float64\n",
      "release_year            10866 non-null int64\n",
      "budget_adj              10866 non-null float64\n",
      "revenue_adj             10866 non-null float64\n",
      "dtypes: float64(4), int64(6), object(11)\n",
      "memory usage: 1.7+ MB\n"
     ]
    },
    {
     "data": {
      "text/html": [
       "<div>\n",
       "<style scoped>\n",
       "    .dataframe tbody tr th:only-of-type {\n",
       "        vertical-align: middle;\n",
       "    }\n",
       "\n",
       "    .dataframe tbody tr th {\n",
       "        vertical-align: top;\n",
       "    }\n",
       "\n",
       "    .dataframe thead th {\n",
       "        text-align: right;\n",
       "    }\n",
       "</style>\n",
       "<table border=\"1\" class=\"dataframe\">\n",
       "  <thead>\n",
       "    <tr style=\"text-align: right;\">\n",
       "      <th></th>\n",
       "      <th>id</th>\n",
       "      <th>popularity</th>\n",
       "      <th>budget</th>\n",
       "      <th>revenue</th>\n",
       "      <th>runtime</th>\n",
       "      <th>vote_count</th>\n",
       "      <th>vote_average</th>\n",
       "      <th>release_year</th>\n",
       "      <th>budget_adj</th>\n",
       "      <th>revenue_adj</th>\n",
       "    </tr>\n",
       "  </thead>\n",
       "  <tbody>\n",
       "    <tr>\n",
       "      <th>count</th>\n",
       "      <td>10866.000000</td>\n",
       "      <td>10866.000000</td>\n",
       "      <td>1.086600e+04</td>\n",
       "      <td>1.086600e+04</td>\n",
       "      <td>10866.000000</td>\n",
       "      <td>10866.000000</td>\n",
       "      <td>10866.000000</td>\n",
       "      <td>10866.000000</td>\n",
       "      <td>1.086600e+04</td>\n",
       "      <td>1.086600e+04</td>\n",
       "    </tr>\n",
       "    <tr>\n",
       "      <th>mean</th>\n",
       "      <td>66064.177434</td>\n",
       "      <td>0.646441</td>\n",
       "      <td>1.462570e+07</td>\n",
       "      <td>3.982332e+07</td>\n",
       "      <td>102.070863</td>\n",
       "      <td>217.389748</td>\n",
       "      <td>5.974922</td>\n",
       "      <td>2001.322658</td>\n",
       "      <td>1.755104e+07</td>\n",
       "      <td>5.136436e+07</td>\n",
       "    </tr>\n",
       "    <tr>\n",
       "      <th>std</th>\n",
       "      <td>92130.136561</td>\n",
       "      <td>1.000185</td>\n",
       "      <td>3.091321e+07</td>\n",
       "      <td>1.170035e+08</td>\n",
       "      <td>31.381405</td>\n",
       "      <td>575.619058</td>\n",
       "      <td>0.935142</td>\n",
       "      <td>12.812941</td>\n",
       "      <td>3.430616e+07</td>\n",
       "      <td>1.446325e+08</td>\n",
       "    </tr>\n",
       "    <tr>\n",
       "      <th>min</th>\n",
       "      <td>5.000000</td>\n",
       "      <td>0.000065</td>\n",
       "      <td>0.000000e+00</td>\n",
       "      <td>0.000000e+00</td>\n",
       "      <td>0.000000</td>\n",
       "      <td>10.000000</td>\n",
       "      <td>1.500000</td>\n",
       "      <td>1960.000000</td>\n",
       "      <td>0.000000e+00</td>\n",
       "      <td>0.000000e+00</td>\n",
       "    </tr>\n",
       "    <tr>\n",
       "      <th>25%</th>\n",
       "      <td>10596.250000</td>\n",
       "      <td>0.207583</td>\n",
       "      <td>0.000000e+00</td>\n",
       "      <td>0.000000e+00</td>\n",
       "      <td>90.000000</td>\n",
       "      <td>17.000000</td>\n",
       "      <td>5.400000</td>\n",
       "      <td>1995.000000</td>\n",
       "      <td>0.000000e+00</td>\n",
       "      <td>0.000000e+00</td>\n",
       "    </tr>\n",
       "    <tr>\n",
       "      <th>50%</th>\n",
       "      <td>20669.000000</td>\n",
       "      <td>0.383856</td>\n",
       "      <td>0.000000e+00</td>\n",
       "      <td>0.000000e+00</td>\n",
       "      <td>99.000000</td>\n",
       "      <td>38.000000</td>\n",
       "      <td>6.000000</td>\n",
       "      <td>2006.000000</td>\n",
       "      <td>0.000000e+00</td>\n",
       "      <td>0.000000e+00</td>\n",
       "    </tr>\n",
       "    <tr>\n",
       "      <th>75%</th>\n",
       "      <td>75610.000000</td>\n",
       "      <td>0.713817</td>\n",
       "      <td>1.500000e+07</td>\n",
       "      <td>2.400000e+07</td>\n",
       "      <td>111.000000</td>\n",
       "      <td>145.750000</td>\n",
       "      <td>6.600000</td>\n",
       "      <td>2011.000000</td>\n",
       "      <td>2.085325e+07</td>\n",
       "      <td>3.369710e+07</td>\n",
       "    </tr>\n",
       "    <tr>\n",
       "      <th>max</th>\n",
       "      <td>417859.000000</td>\n",
       "      <td>32.985763</td>\n",
       "      <td>4.250000e+08</td>\n",
       "      <td>2.781506e+09</td>\n",
       "      <td>900.000000</td>\n",
       "      <td>9767.000000</td>\n",
       "      <td>9.200000</td>\n",
       "      <td>2015.000000</td>\n",
       "      <td>4.250000e+08</td>\n",
       "      <td>2.827124e+09</td>\n",
       "    </tr>\n",
       "  </tbody>\n",
       "</table>\n",
       "</div>"
      ],
      "text/plain": [
       "                  id    popularity        budget       revenue       runtime  \\\n",
       "count   10866.000000  10866.000000  1.086600e+04  1.086600e+04  10866.000000   \n",
       "mean    66064.177434      0.646441  1.462570e+07  3.982332e+07    102.070863   \n",
       "std     92130.136561      1.000185  3.091321e+07  1.170035e+08     31.381405   \n",
       "min         5.000000      0.000065  0.000000e+00  0.000000e+00      0.000000   \n",
       "25%     10596.250000      0.207583  0.000000e+00  0.000000e+00     90.000000   \n",
       "50%     20669.000000      0.383856  0.000000e+00  0.000000e+00     99.000000   \n",
       "75%     75610.000000      0.713817  1.500000e+07  2.400000e+07    111.000000   \n",
       "max    417859.000000     32.985763  4.250000e+08  2.781506e+09    900.000000   \n",
       "\n",
       "         vote_count  vote_average  release_year    budget_adj   revenue_adj  \n",
       "count  10866.000000  10866.000000  10866.000000  1.086600e+04  1.086600e+04  \n",
       "mean     217.389748      5.974922   2001.322658  1.755104e+07  5.136436e+07  \n",
       "std      575.619058      0.935142     12.812941  3.430616e+07  1.446325e+08  \n",
       "min       10.000000      1.500000   1960.000000  0.000000e+00  0.000000e+00  \n",
       "25%       17.000000      5.400000   1995.000000  0.000000e+00  0.000000e+00  \n",
       "50%       38.000000      6.000000   2006.000000  0.000000e+00  0.000000e+00  \n",
       "75%      145.750000      6.600000   2011.000000  2.085325e+07  3.369710e+07  \n",
       "max     9767.000000      9.200000   2015.000000  4.250000e+08  2.827124e+09  "
      ]
     },
     "execution_count": 51,
     "metadata": {},
     "output_type": "execute_result"
    }
   ],
   "source": [
    "#loading data from csv file\n",
    "df = pd.read_csv('tmdb-movies.csv')\n",
    "#initial assessment of dataset\n",
    "df.head()\n",
    "df.tail()\n",
    "df.shape\n",
    "df.info()\n",
    "df.describe()"
   ]
  },
  {
   "cell_type": "markdown",
   "metadata": {},
   "source": [
    "## Data Cleaning:"
   ]
  },
  {
   "cell_type": "markdown",
   "metadata": {},
   "source": [
    "### Checking for Duplicate Rows:\n",
    "\n",
    "First we will  check the dataset for duplicate rows:"
   ]
  },
  {
   "cell_type": "code",
   "execution_count": 52,
   "metadata": {},
   "outputs": [
    {
     "data": {
      "text/plain": [
       "1"
      ]
     },
     "execution_count": 52,
     "metadata": {},
     "output_type": "execute_result"
    }
   ],
   "source": [
    "sum(df.duplicated())"
   ]
  },
  {
   "cell_type": "markdown",
   "metadata": {},
   "source": [
    "We see there is one duplicate row, we check this row just as a precaution and then drop it from the dataset. We also confirm the duplicate row has been removed:"
   ]
  },
  {
   "cell_type": "code",
   "execution_count": 53,
   "metadata": {},
   "outputs": [
    {
     "data": {
      "text/plain": [
       "0"
      ]
     },
     "execution_count": 53,
     "metadata": {},
     "output_type": "execute_result"
    }
   ],
   "source": [
    "df.loc[df.duplicated()]\n",
    "df =  df.drop_duplicates()\n",
    "sum(df.duplicated())"
   ]
  },
  {
   "cell_type": "markdown",
   "metadata": {},
   "source": [
    "### Checking column names:\n",
    "We see that the columns names are all already in lowercase and with underscores instead of spaces and so no changes are needed for optimal python handling of column names. We also see that the existing column names give a good description of what data is in each column and so no further changes are needed for clarity and understanding."
   ]
  },
  {
   "cell_type": "markdown",
   "metadata": {},
   "source": [
    "### Checking for null values and datatypes:\n",
    "Now we will use the info() function to show the amount of non-null values as well as the datatype for each column:"
   ]
  },
  {
   "cell_type": "code",
   "execution_count": 54,
   "metadata": {},
   "outputs": [
    {
     "name": "stdout",
     "output_type": "stream",
     "text": [
      "<class 'pandas.core.frame.DataFrame'>\n",
      "Int64Index: 10865 entries, 0 to 10865\n",
      "Data columns (total 21 columns):\n",
      "id                      10865 non-null int64\n",
      "imdb_id                 10855 non-null object\n",
      "popularity              10865 non-null float64\n",
      "budget                  10865 non-null int64\n",
      "revenue                 10865 non-null int64\n",
      "original_title          10865 non-null object\n",
      "cast                    10789 non-null object\n",
      "homepage                2936 non-null object\n",
      "director                10821 non-null object\n",
      "tagline                 8041 non-null object\n",
      "keywords                9372 non-null object\n",
      "overview                10861 non-null object\n",
      "runtime                 10865 non-null int64\n",
      "genres                  10842 non-null object\n",
      "production_companies    9835 non-null object\n",
      "release_date            10865 non-null object\n",
      "vote_count              10865 non-null int64\n",
      "vote_average            10865 non-null float64\n",
      "release_year            10865 non-null int64\n",
      "budget_adj              10865 non-null float64\n",
      "revenue_adj             10865 non-null float64\n",
      "dtypes: float64(4), int64(6), object(11)\n",
      "memory usage: 1.8+ MB\n"
     ]
    }
   ],
   "source": [
    "#checking for null values and datatypes\n",
    "df.info()"
   ]
  },
  {
   "cell_type": "markdown",
   "metadata": {},
   "source": [
    "We can see from the info() function that all datatypes are correct except for the release_date column which has a string format. It could be more efficient to change this column into a datetime format which will be addressed in a section below.\n",
    "\n",
    "We also see that the following columns contain null values and thus have missing data:\n",
    "\n",
    "* imdb_id \n",
    "* cast\n",
    "* homepage\n",
    "* director\n",
    "* tagline\n",
    "* keywords\n",
    "* overview\n",
    "* genres\n",
    "* production_companies\n",
    "\n",
    "The only variable here that could affect the proposed research questions is the genres column. For the other variables we will just ignore the missing values as it is likely we will not use these columns in the analysis anyway, and to drop all rows with missing data would remove too much of the dataset. \n",
    "\n",
    "We check to see how many rows in the genres column are affected by null values or blank values:\n"
   ]
  },
  {
   "cell_type": "code",
   "execution_count": 55,
   "metadata": {},
   "outputs": [
    {
     "name": "stdout",
     "output_type": "stream",
     "text": [
      "23\n"
     ]
    },
    {
     "data": {
      "text/plain": [
       "0"
      ]
     },
     "execution_count": 55,
     "metadata": {},
     "output_type": "execute_result"
    }
   ],
   "source": [
    "print(sum(df['genres'].isnull()))\n",
    "sum(df['genres']=='')"
   ]
  },
  {
   "cell_type": "markdown",
   "metadata": {},
   "source": [
    "We check for null values and rows that are blank and maybe have not been labelled as null by mistake. Ww see that there are only 23 rows with null values in the genres column and no values with blank strings. We have a quick look through the results in the genres columns with the value counts function to see if there is any other unexpected data:"
   ]
  },
  {
   "cell_type": "code",
   "execution_count": 56,
   "metadata": {},
   "outputs": [],
   "source": [
    "#checking genre column for unexpected data\n",
    "df['genres'].value_counts()\n",
    "df['genres'].value_counts().sort_index()\n",
    "df['genres'].value_counts().sort_index(ascending=False)"
   ]
  },
  {
   "cell_type": "markdown",
   "metadata": {},
   "source": [
    "From looking at the value counts, and then checking the value counts in ascending and descending order, we can make sure there are no more unexpected types of data in this column. It is also worth noting that a genre, can have multiple genres seperated by a \"|\" character and so any analysis looking at the genres column will take this into account.\n",
    "\n",
    "We will quickly check the rows with null values in the genres column and then we will drop them from the dataset, and confirm these rows have been dropped:"
   ]
  },
  {
   "cell_type": "code",
   "execution_count": 57,
   "metadata": {},
   "outputs": [],
   "source": [
    "#check rows with null values in genres field\n",
    "df.loc[df['genres'].isnull()];"
   ]
  },
  {
   "cell_type": "code",
   "execution_count": 58,
   "metadata": {},
   "outputs": [
    {
     "data": {
      "text/plain": [
       "(10842, 21)"
      ]
     },
     "execution_count": 58,
     "metadata": {},
     "output_type": "execute_result"
    }
   ],
   "source": [
    "#remove rows\n",
    "drop_rows =df.loc[df['genres'].isnull()]\n",
    "df_edited = df.drop(axis=0,index=drop_rows.index)\n",
    "#check to make sure rows have been removed\n",
    "df_edited.shape"
   ]
  },
  {
   "cell_type": "markdown",
   "metadata": {},
   "source": [
    "### Changing format of datetime:\n",
    "As noted before, the release_date column is currently set as a string. In the following cells we will change the release_date column to datetime format for easier (and more computationally efficient) analysis. First we split the release date string on the character \"/\" to get separate values for month,day and year:"
   ]
  },
  {
   "cell_type": "code",
   "execution_count": 59,
   "metadata": {},
   "outputs": [
    {
     "data": {
      "text/html": [
       "<div>\n",
       "<style scoped>\n",
       "    .dataframe tbody tr th:only-of-type {\n",
       "        vertical-align: middle;\n",
       "    }\n",
       "\n",
       "    .dataframe tbody tr th {\n",
       "        vertical-align: top;\n",
       "    }\n",
       "\n",
       "    .dataframe thead th {\n",
       "        text-align: right;\n",
       "    }\n",
       "</style>\n",
       "<table border=\"1\" class=\"dataframe\">\n",
       "  <thead>\n",
       "    <tr style=\"text-align: right;\">\n",
       "      <th></th>\n",
       "      <th>month</th>\n",
       "      <th>day</th>\n",
       "      <th>year</th>\n",
       "    </tr>\n",
       "  </thead>\n",
       "  <tbody>\n",
       "    <tr>\n",
       "      <th>0</th>\n",
       "      <td>6</td>\n",
       "      <td>9</td>\n",
       "      <td>15</td>\n",
       "    </tr>\n",
       "    <tr>\n",
       "      <th>1</th>\n",
       "      <td>5</td>\n",
       "      <td>13</td>\n",
       "      <td>15</td>\n",
       "    </tr>\n",
       "    <tr>\n",
       "      <th>2</th>\n",
       "      <td>3</td>\n",
       "      <td>18</td>\n",
       "      <td>15</td>\n",
       "    </tr>\n",
       "    <tr>\n",
       "      <th>3</th>\n",
       "      <td>12</td>\n",
       "      <td>15</td>\n",
       "      <td>15</td>\n",
       "    </tr>\n",
       "    <tr>\n",
       "      <th>4</th>\n",
       "      <td>4</td>\n",
       "      <td>1</td>\n",
       "      <td>15</td>\n",
       "    </tr>\n",
       "  </tbody>\n",
       "</table>\n",
       "</div>"
      ],
      "text/plain": [
       "  month day year\n",
       "0     6   9   15\n",
       "1     5  13   15\n",
       "2     3  18   15\n",
       "3    12  15   15\n",
       "4     4   1   15"
      ]
     },
     "execution_count": 59,
     "metadata": {},
     "output_type": "execute_result"
    }
   ],
   "source": [
    "#slice release_date string into month,day,year\n",
    "date = df_edited['release_date']\n",
    "date_s = date.str.split('/')\n",
    "#create a new dataframe for sliced strings\n",
    "MDY =pd.DataFrame(columns=['month','day','year'])\n",
    "MDY['month'] = date_s.apply(lambda x: x[0])\n",
    "MDY['day'] = date_s.apply(lambda x: x[1])\n",
    "MDY['year'] = date_s.apply(lambda x: x[2])\n",
    "MDY.head()"
   ]
  },
  {
   "cell_type": "markdown",
   "metadata": {},
   "source": [
    "We see that for the movie release date we only have the final two years numbers ('89') and not the full year (1989) and so we must fill in this missing information. It is not enough to use the datetime function as if given the final two year numbers, pandas will convert any year before 1969 into a 2000 year e.g '55' will be converted into 2055. We check to see the year values we have in the release_date column: "
   ]
  },
  {
   "cell_type": "code",
   "execution_count": 60,
   "metadata": {},
   "outputs": [
    {
     "data": {
      "text/plain": [
       "00    226\n",
       "01    241\n",
       "02    266\n",
       "03    281\n",
       "04    307\n",
       "05    363\n",
       "06    408\n",
       "07    438\n",
       "08    495\n",
       "09    531\n",
       "10    487\n",
       "11    540\n",
       "12    584\n",
       "13    656\n",
       "14    699\n",
       "15    627\n",
       "60     32\n",
       "61     31\n",
       "62     32\n",
       "63     34\n",
       "64     42\n",
       "65     35\n",
       "66     46\n",
       "67     40\n",
       "68     39\n",
       "69     31\n",
       "70     40\n",
       "71     55\n",
       "72     40\n",
       "73     55\n",
       "74     46\n",
       "75     44\n",
       "76     47\n",
       "77     57\n",
       "78     65\n",
       "79     57\n",
       "80     78\n",
       "81     82\n",
       "82     81\n",
       "83     80\n",
       "84    105\n",
       "85    109\n",
       "86    121\n",
       "87    125\n",
       "88    145\n",
       "89    136\n",
       "90    132\n",
       "91    133\n",
       "92    133\n",
       "93    178\n",
       "94    184\n",
       "95    174\n",
       "96    203\n",
       "97    192\n",
       "98    210\n",
       "99    224\n",
       "Name: year, dtype: int64"
      ]
     },
     "execution_count": 60,
     "metadata": {},
     "output_type": "execute_result"
    }
   ],
   "source": [
    "#checking year values\n",
    "MDY['year'].value_counts().sort_index()"
   ]
  },
  {
   "cell_type": "markdown",
   "metadata": {},
   "source": [
    "We can see from the value_counts above that the earliest movies in our dataset are from 1960 and so any year number from 60 to 99 is from the 1900s and any year number from 00 to 15 is from the 2000s. Thus we update our year values to contain the full year:"
   ]
  },
  {
   "cell_type": "code",
   "execution_count": 61,
   "metadata": {},
   "outputs": [
    {
     "data": {
      "text/plain": [
       "2014    699\n",
       "2013    656\n",
       "2015    627\n",
       "2012    584\n",
       "2011    540\n",
       "2009    531\n",
       "2008    495\n",
       "2010    487\n",
       "2007    438\n",
       "2006    408\n",
       "2005    363\n",
       "2004    307\n",
       "2003    281\n",
       "2002    266\n",
       "2001    241\n",
       "2000    226\n",
       "1999    224\n",
       "1998    210\n",
       "1996    203\n",
       "1997    192\n",
       "1994    184\n",
       "1993    178\n",
       "1995    174\n",
       "1988    145\n",
       "1989    136\n",
       "1991    133\n",
       "1992    133\n",
       "1990    132\n",
       "1987    125\n",
       "1986    121\n",
       "1985    109\n",
       "1984    105\n",
       "1981     82\n",
       "1982     81\n",
       "1983     80\n",
       "1980     78\n",
       "1978     65\n",
       "1979     57\n",
       "1977     57\n",
       "1971     55\n",
       "1973     55\n",
       "1976     47\n",
       "1974     46\n",
       "1966     46\n",
       "1975     44\n",
       "1964     42\n",
       "1972     40\n",
       "1967     40\n",
       "1970     40\n",
       "1968     39\n",
       "1965     35\n",
       "1963     34\n",
       "1960     32\n",
       "1962     32\n",
       "1961     31\n",
       "1969     31\n",
       "Name: year_updated, dtype: int64"
      ]
     },
     "execution_count": 61,
     "metadata": {},
     "output_type": "execute_result"
    }
   ],
   "source": [
    "# define a function to change the year to the correct full year\n",
    "def u_year(x):\n",
    "    if int(x) <= 15:\n",
    "        return '20'+x\n",
    "    if int(x) >= 60:\n",
    "        return '19'+x\n",
    "# create a new column for full year strings\n",
    "MDY['year_updated']=MDY['year'].apply(lambda x:u_year(x))\n",
    "#check to make sure year_updated column has been populated correctly\n",
    "MDY['year_updated'].value_counts()"
   ]
  },
  {
   "cell_type": "markdown",
   "metadata": {},
   "source": [
    "Now we can convert these values to datetime and replace the original string values with the new datetime values:"
   ]
  },
  {
   "cell_type": "code",
   "execution_count": 62,
   "metadata": {},
   "outputs": [
    {
     "name": "stdout",
     "output_type": "stream",
     "text": [
      "<class 'pandas.core.frame.DataFrame'>\n",
      "Int64Index: 10842 entries, 0 to 10865\n",
      "Data columns (total 21 columns):\n",
      "id                      10842 non-null int64\n",
      "imdb_id                 10834 non-null object\n",
      "popularity              10842 non-null float64\n",
      "budget                  10842 non-null int64\n",
      "revenue                 10842 non-null int64\n",
      "original_title          10842 non-null object\n",
      "cast                    10767 non-null object\n",
      "homepage                2931 non-null object\n",
      "director                10800 non-null object\n",
      "tagline                 8036 non-null object\n",
      "keywords                9367 non-null object\n",
      "overview                10839 non-null object\n",
      "runtime                 10842 non-null int64\n",
      "genres                  10842 non-null object\n",
      "production_companies    9826 non-null object\n",
      "release_date            10842 non-null datetime64[ns]\n",
      "vote_count              10842 non-null int64\n",
      "vote_average            10842 non-null float64\n",
      "release_year            10842 non-null int64\n",
      "budget_adj              10842 non-null float64\n",
      "revenue_adj             10842 non-null float64\n",
      "dtypes: datetime64[ns](1), float64(4), int64(6), object(10)\n",
      "memory usage: 1.8+ MB\n"
     ]
    }
   ],
   "source": [
    "#recombine strings into correct datetime format\n",
    "MDY['datetime'] = MDY['month']+'/'+MDY['day']+'/'+MDY['year_updated']\n",
    "# update the release_date column with correct data in the datetime format\n",
    "df_edited['release_date'] = pd.to_datetime(MDY['datetime'],format='%m/%d/%Y')\n",
    "#check to make sure datatype has been changed to datetime\n",
    "df_edited.info()"
   ]
  },
  {
   "cell_type": "markdown",
   "metadata": {},
   "source": [
    "Finally we drop the uneeded columns to obtain a cleaned dataset:"
   ]
  },
  {
   "cell_type": "code",
   "execution_count": 63,
   "metadata": {},
   "outputs": [],
   "source": [
    "drop_cols = ['imdb_id','cast','homepage','director','tagline','keywords','overview','production_companies']\n",
    "df_clean = df_edited.drop(columns=drop_cols)\n",
    "df_clean.head();"
   ]
  },
  {
   "cell_type": "markdown",
   "metadata": {},
   "source": [
    "<a id='eda'></a>\n",
    "## Exploratory Data Analysis\n",
    "\n",
    "### Research Question 1: Is a higher movie budget correlated with higher revenue/higher average vote?"
   ]
  },
  {
   "cell_type": "markdown",
   "metadata": {},
   "source": [
    "First we create a new dataframe with the variables of interest. It was decided to use the values for budget_adj and revenue_adj instead of budget and revenue. As the dataset spans a large number of years, it was felt this method more accurately takes into account the difference in values of money across the time period as the _adj variables take into account differences in budget and revenue due to inflation. \n",
    "\n",
    "We then check the distributions of the variables of interest:"
   ]
  },
  {
   "cell_type": "code",
   "execution_count": 64,
   "metadata": {
    "scrolled": false
   },
   "outputs": [
    {
     "data": {
      "image/png": "[encoded data removed]",
      "text/plain": [
       "<matplotlib.figure.Figure at 0x7fe6916812e8>"
      ]
     },
     "metadata": {
      "needs_background": "light"
     },
     "output_type": "display_data"
    },
    {
     "data": {
      "image/png": "[encoded data removed]",
      "text/plain": [
       "<matplotlib.figure.Figure at 0x7fe692b3a668>"
      ]
     },
     "metadata": {
      "needs_background": "light"
     },
     "output_type": "display_data"
    },
    {
     "data": {
      "image/png": "[encoded data removed]",
      "text/plain": [
       "<matplotlib.figure.Figure at 0x7fe692b39c88>"
      ]
     },
     "metadata": {
      "needs_background": "light"
     },
     "output_type": "display_data"
    }
   ],
   "source": [
    "#create new dataframe with variables of interest\n",
    "df1 = df_clean.loc[:,['budget_adj','revenue_adj','vote_average']]\n",
    "#remove rows with no adjusted budget or adjusted revenue\n",
    "rows_to_drop = df1.loc[(df1['budget_adj']==0)|(df1['revenue_adj']==0)]\n",
    "df1_clean = df1.drop(index=rows_to_drop.index)\n",
    "#check distributions\n",
    "data = df1_clean['budget_adj']\n",
    "plt.hist(df1_clean['budget_adj'], bins=25);\n",
    "plt.title('Histogram of budget_adjusted')\n",
    "plt.xlabel('budget_adjusted ($10 millions)')\n",
    "plt.grid(b=True)\n",
    "plt.show()\n",
    "df1_clean['revenue_adj'].hist(bins=50)\n",
    "plt.xlabel('revenue_adjusted ($100 millions)')\n",
    "plt.title('Histogram of revenue_adjusted')\n",
    "plt.show()\n",
    "df1_clean['vote_average'].hist()\n",
    "plt.title('Histogram of average vote')\n",
    "plt.show()"
   ]
  },
  {
   "cell_type": "code",
   "execution_count": 65,
   "metadata": {},
   "outputs": [
    {
     "data": {
      "image/png": "[encoded data removed]",
      "text/plain": [
       "<matplotlib.figure.Figure at 0x7fe691681240>"
      ]
     },
     "metadata": {
      "needs_background": "light"
     },
     "output_type": "display_data"
    }
   ],
   "source": [
    "df1_clean['profit']= df1_clean['revenue_adj']-df1_clean['budget_adj']\n",
    "df1_clean['profit'].hist()\n",
    "plt.title('Histogram of profit')\n",
    "plt.show()"
   ]
  },
  {
   "cell_type": "markdown",
   "metadata": {},
   "source": [
    "Now we create and examine scatter plots of budget adjusted against revenue adjusted, profit and vote_average. We also look at line of best fits for each pair of variables to better understand the correlation."
   ]
  },
  {
   "cell_type": "code",
   "execution_count": 66,
   "metadata": {},
   "outputs": [
    {
     "data": {
      "image/png": "[encoded data removed]",
      "text/plain": [
       "<matplotlib.figure.Figure at 0x7fe6928364a8>"
      ]
     },
     "metadata": {
      "needs_background": "light"
     },
     "output_type": "display_data"
    },
    {
     "data": {
      "image/png": "[encoded data removed]",
      "text/plain": [
       "<matplotlib.figure.Figure at 0x7fe692028f60>"
      ]
     },
     "metadata": {
      "needs_background": "light"
     },
     "output_type": "display_data"
    },
    {
     "data": {
      "image/png": "[encoded data removed]",
      "text/plain": [
       "<matplotlib.figure.Figure at 0x7fe68e540588>"
      ]
     },
     "metadata": {
      "needs_background": "light"
     },
     "output_type": "display_data"
    }
   ],
   "source": [
    "#scatter plot 1 - budget vs revenue\n",
    "x = df1_clean['budget_adj']\n",
    "y = df1_clean['revenue_adj']\n",
    "plt.scatter(x,y,s=1)\n",
    "m, b = np.polyfit(x, y, 1)\n",
    "plt.plot(x, m*x + b)\n",
    "plt.xlabel('budget_adjusted ($10 millions)')\n",
    "plt.ylabel('revenue_adjusted ($100 millions)')\n",
    "plt.title('Scatter plot of budget adjusted against revenue adjusted')\n",
    "plt.grid(b=True)\n",
    "plt.show()\n",
    "\n",
    "#scatter plot 2 - budget vs profit\n",
    "x = df1_clean['budget_adj']\n",
    "y = df1_clean['profit']\n",
    "plt.scatter(x,y,s=1)\n",
    "plt.xlabel('budget_adjusted ($10 millions)')\n",
    "plt.ylabel('profit_adjusted ($100 millions)')\n",
    "m, b = np.polyfit(x, y, 1)\n",
    "plt.plot(x, m*x + b)\n",
    "plt.title('Scatter plot of budget adjusted against profit')\n",
    "plt.grid(b=True)\n",
    "plt.show()\n",
    "\n",
    "# scatter plot 3 - budget vs vote_count\n",
    "x = df1_clean['budget_adj']\n",
    "y = df1_clean['vote_average']\n",
    "plt.scatter(x,y,s=1)\n",
    "plt.xlabel('budget_adjusted ($10 millions)')\n",
    "plt.ylabel('average_vote')\n",
    "m, b = np.polyfit(x, y, 1)\n",
    "plt.plot(x, m*x + b)\n",
    "plt.title('Scatter plot of budget adjusted against vote_average')\n",
    "plt.grid(b=True)\n",
    "plt.show()"
   ]
  },
  {
   "cell_type": "markdown",
   "metadata": {},
   "source": [
    "## Research Question 1 Findings:\n",
    "We see that there is a distinct positive correlation between the budget of a movie and the revenue generated, as well as a positive correlation between the budget of a movie and the profit generated. \n",
    "\n",
    "We also see that there is slight positive correlation between the budget of a movie and it's average vote received, but this relationship does not look to be very significant. "
   ]
  },
  {
   "cell_type": "markdown",
   "metadata": {},
   "source": [
    "### Research Question 2: Do action or romance movies score better/generate more revenue/are more popular?\n",
    "\n",
    "For this research question we want to determine if, in general, action or romance movies score better. We also want to check to see which type of movie generates more revenue and is more popular. \n",
    "\n",
    "We will seperate the dataset into action and romance movies and discard any unneccessary rows, then compare the two groups on metrics such as revenue and average vote score."
   ]
  },
  {
   "cell_type": "markdown",
   "metadata": {},
   "source": [
    "First we will separate out the genres column, creating new dataframes with new rows for each action and romance movie:"
   ]
  },
  {
   "cell_type": "code",
   "execution_count": 67,
   "metadata": {},
   "outputs": [
    {
     "name": "stderr",
     "output_type": "stream",
     "text": [
      "/opt/conda/lib/python3.6/site-packages/pandas/core/frame.py:6211: FutureWarning: Sorting because non-concatenation axis is not aligned. A future version\n",
      "of pandas will change to not sort by default.\n",
      "\n",
      "To accept the future behavior, pass 'sort=False'.\n",
      "\n",
      "To retain the current behavior and silence the warning, pass 'sort=True'.\n",
      "\n",
      "  sort=sort)\n"
     ]
    }
   ],
   "source": [
    "#create new dataframes for action and romance movies\n",
    "# new data set with rows with multiple genres\n",
    "#select required columns\n",
    "df2 = df_clean.loc[:,['id','popularity','genres','vote_average','revenue','revenue_adj']]\n",
    "\n",
    "#select rows with action or romance in genres column\n",
    "df2_edited = df2.loc[df2['genres'].str.contains('Action')|df2['genres'].str.contains('Romance')]\n",
    "\n",
    "#separate rows that have genres needed to be split and rows that don't\n",
    "to_split = df2_edited.loc[df2_edited['genres'].str.contains('|')]\n",
    "not_to_split = df2_edited.loc[(df2_edited['genres']=='Action')|(df2_edited['genres']=='Romance')]\n",
    "\n",
    "#it appears rows with only action or romance have appeared in the 'to_split' dataframe as well\n",
    "#this would give errors when splitting so we remove these rows\n",
    "to_split = to_split.drop(axis=0,index=not_to_split.index)\n",
    "\n",
    "#check rows have been separated correctly \n",
    "df2_edited.shape[0] == to_split.shape[0] + not_to_split.shape[0] \n",
    "\n",
    "#split genres to create a new column with a list of individual genres\n",
    "after_split = to_split.copy()\n",
    "after_split['s_genres'] = to_split['genres'].str.split(pat='|')\n",
    "\n",
    "#function to check if a movie is an action or romance movie\n",
    "def check_action(a):\n",
    "    if 'Action' in a and 'Romance' not in a:\n",
    "        return 'Action'\n",
    "    elif 'Romance' in a and 'Action' not in a:\n",
    "        return 'Romance'\n",
    "    elif 'Action' in a and 'Romance' in a:\n",
    "        return 'Both'\n",
    "    else:\n",
    "        return 'Neither'\n",
    "\n",
    "#create a new column with specific genre\n",
    "after_split['genre_spec']=after_split['s_genres'].apply(lambda x: check_action(x))\n",
    "\n",
    "#create dateframes of action and romance movies to add to the movies which did not need splitting\n",
    "action_to_append = after_split.loc[(after_split['genre_spec']=='Action')|(after_split['genre_spec']=='Both')]\n",
    "romance_to_append = after_split.loc[(after_split['genre_spec']=='Romance')|(after_split['genre_spec']=='Both')]\n",
    "\n",
    "#create a new dataframe for action movies\n",
    "df2_action = not_to_split.loc[not_to_split['genres']=='Action']\n",
    "df2_action = df2_action.append(action_to_append)\n",
    "#create a new column to label all movies in this set as action\n",
    "df2_action['genre'] = 'Action'\n",
    "#remove uneededed columns\n",
    "df2_action.drop(columns=['genre_spec','genres','s_genres'],inplace=True)\n",
    "\n",
    "#create a new dataframe for romance movies\n",
    "df2_romance = not_to_split.loc[not_to_split['genres']=='Romance']\n",
    "df2_romance = df2_romance.append(romance_to_append)\n",
    "#create a new column to label all movies in this set as romance\n",
    "df2_romance['genre'] = 'Romance'\n",
    "#drop uneeded columns\n",
    "df2_romance.drop(columns=['genre_spec','genres','s_genres'],inplace=True)\n"
   ]
  },
  {
   "cell_type": "markdown",
   "metadata": {},
   "source": [
    "Now we have the two seperate datasets for each type of movie, we can check the proportions of each movie type  present in the database:"
   ]
  },
  {
   "cell_type": "code",
   "execution_count": 68,
   "metadata": {},
   "outputs": [
    {
     "data": {
      "image/png": "[encoded data removed]",
      "text/plain": [
       "<matplotlib.figure.Figure at 0x7fe692898f98>"
      ]
     },
     "metadata": {},
     "output_type": "display_data"
    }
   ],
   "source": [
    "#obtain counts for total rows and for action and romance movie types\n",
    "total_rows = df2.shape[0]\n",
    "action_rows = df2_action.shape[0]\n",
    "romance_rows = df2_romance.shape[0]\n",
    "other_rows = total_rows - action_rows - romance_rows\n",
    "labels = ['Action', 'Romance', 'Other']\n",
    "sizes = [action_rows, romance_rows, other_rows]\n",
    "plt.pie(sizes,labels = labels,autopct='%1.2f%%')\n",
    "plt.axis('equal')\n",
    "plt.title('Pie chart showing percentage movie types')\n",
    "plt.show()"
   ]
  },
  {
   "cell_type": "markdown",
   "metadata": {},
   "source": [
    "We can see from the above pie chart that from our intial dataset, around 22% have been labelled as action films, around 16% have been labelled as romance films and 62% are labelled with neither action or romance genres. We can now begin to answer our research question: \n",
    "\n",
    "First we will check to see the average movie score for each genre:"
   ]
  },
  {
   "cell_type": "code",
   "execution_count": 69,
   "metadata": {},
   "outputs": [
    {
     "data": {
      "image/png": "[encoded data removed]",
      "text/plain": [
       "<matplotlib.figure.Figure at 0x7fe68e82eba8>"
      ]
     },
     "metadata": {
      "needs_background": "light"
     },
     "output_type": "display_data"
    }
   ],
   "source": [
    "#selecting means\n",
    "mean_act_score = df2_action['vote_average'].mean()\n",
    "mean_rom_score = df2_romance['vote_average'].mean()\n",
    "#creating bar chart\n",
    "labels = ['Action','Romance']\n",
    "plt.bar([1,2],[mean_act_score,mean_rom_score],tick_label=labels)\n",
    "plt.ylabel('mean vote_average_score')\n",
    "plt.title('Bar chart showing Action vs Romance mean vote_average score')\n",
    "plt.show()\n",
    "\n",
    " "
   ]
  },
  {
   "cell_type": "markdown",
   "metadata": {},
   "source": [
    "We can see that Romance movies score slightly higher on average when compared to Action movies. We can also check the boxplots to see more information:"
   ]
  },
  {
   "cell_type": "code",
   "execution_count": 70,
   "metadata": {},
   "outputs": [
    {
     "data": {
      "image/png": "[encoded data removed]",
      "text/plain": [
       "<matplotlib.figure.Figure at 0x7fe69191ad30>"
      ]
     },
     "metadata": {
      "needs_background": "light"
     },
     "output_type": "display_data"
    }
   ],
   "source": [
    "#creating boxplots\n",
    "fig, (ax1, ax2) = plt.subplots(1, 2,sharey=True)\n",
    "fig.suptitle('Action vs Romance Boxplots for vote_average')\n",
    "ax1.boxplot(df2_action['vote_average'])\n",
    "ax1.set_xticklabels(['Action'])\n",
    "ax2.boxplot(df2_romance['vote_average'])\n",
    "ax2.set_xticklabels(['Romance']);"
   ]
  },
  {
   "cell_type": "markdown",
   "metadata": {},
   "source": [
    "From the above boxplots, we can see that action movies has a considerably higher amount of low outlier values than romance movies. Otherwise the means and interquartiles are very similar. Next we create a bar chart to compare the other variables (popularity,revenue adjusted) and compare them against the avergae voter score."
   ]
  },
  {
   "cell_type": "code",
   "execution_count": 71,
   "metadata": {},
   "outputs": [
    {
     "data": {
      "image/png": "[encoded data removed]",
      "text/plain": [
       "<matplotlib.figure.Figure at 0x7fe68e54cc88>"
      ]
     },
     "metadata": {
      "needs_background": "light"
     },
     "output_type": "display_data"
    }
   ],
   "source": [
    "#collect data\n",
    "action = [df2_action['popularity'].mean(),df2_action['revenue_adj'].mean(),mean_act_score]\n",
    "romance = [df2_romance['popularity'].mean(),df2_romance['revenue_adj'].mean(),mean_rom_score]\n",
    "#set up sub plots\n",
    "fig, (ax1, ax2, ax3) = plt.subplots(1, 3)\n",
    "#popularity subplot\n",
    "ax1.bar(1,action[0])\n",
    "ax1.bar(2,romance[0])\n",
    "ax1.title.set_text('Popularity')\n",
    "ax1.set_xlabel('Movie type')\n",
    "ax1.set_ylabel('Popularity(%)')\n",
    "ax1.set_xticks([]) \n",
    "#revenue adjusted subplot\n",
    "ax2.bar(1,action[1])\n",
    "ax2.bar(2,romance[1])\n",
    "ax2.title.set_text('Revenue Adjusted')\n",
    "ax2.set_xlabel('Movie type')\n",
    "ax2.set_ylabel('Revenue (10 millions)')\n",
    "ax2.set_xticks([]) \n",
    "#average_vote_score subplot\n",
    "ax3.bar(1,action[2])\n",
    "ax3.bar(2,romance[2])\n",
    "ax3.title.set_text('Average Vote score')\n",
    "ax3.set_xticks([]) \n",
    "ax3.set_xlabel('Movie type')\n",
    "ax3.set_ylabel('Average vote score (1-10)')\n",
    "#finetuneing\n",
    "fig.suptitle('Bar chart showing comparisons between Action and Romance movies',ha='center')\n",
    "plt.subplots_adjust(left=None, bottom=0, right=2, top=None, wspace=None, hspace=None)\n",
    "ax2.legend(['Action','Romance']);"
   ]
  },
  {
   "cell_type": "markdown",
   "metadata": {},
   "source": [
    "#### Research Question 2 Findings:\n",
    "\n",
    "We see from the bar charts above, that even though Romance movies score better in the average score given by  movie watchers, we see that action movies are generally much more popular and in general, collect more revenue. "
   ]
  },
  {
   "cell_type": "markdown",
   "metadata": {},
   "source": [
    "<a id='conclusions'></a>\n",
    "## Conclusions\n",
    "\n",
    "#### Research Question 1:\n",
    "We can see that there is a positive correlation between the budget a movie has and the revenue/profit that it generates. It appears there was a minimum correlation between the average_vote and the budget of a movie and from this we can assume that the amount of money that is spent on a movie is not a reliable indicator of whether people will give it a high score. \n",
    "\n",
    "It is worth noting that for this analysis 6988 rows were dropped as they had zero values for the budget_adjusted and revenue_adjusted columns. If a more accurate analysis were required, these numbers could be calculated or scraped from an additional data source.\n",
    "\n",
    "#### Research Question 2:\n",
    "We can see that from the movies in our dataset, romance movies have in general a higher average_score but action movies in general have a higher adjusted revenue and popularity. Further statistical tests could be carried out to determine the significance of the results we found, to determine the chance that these results did not occur by random chance.\n",
    "\n",
    "For this analysis, we took any movie with a genre of action to be an action movie and any movie with a genre of romance to be a romance movie. It is possible that the genres column is constructed in such a way as the first genre listed is the \"Primary Genre\" and the rest are \"Secondary\". Perhaps the analysis could be made more accurate by only selecting movies which have a genre of action or romance in the first slot in the genres column."
   ]
  },
  {
   "cell_type": "code",
   "execution_count": null,
   "metadata": {},
   "outputs": [],
   "source": []
  }
 ],
 "metadata": {
  "kernelspec": {
   "display_name": "Python 3",
   "language": "python",
   "name": "python3"
  },
  "language_info": {
   "codemirror_mode": {
    "name": "ipython",
    "version": 3
   },
   "file_extension": ".py",
   "mimetype": "text/x-python",
   "name": "python",
   "nbconvert_exporter": "python",
   "pygments_lexer": "ipython3",
   "version": "3.7.6"
  }
 },
 "nbformat": 4,
 "nbformat_minor": 2
}
